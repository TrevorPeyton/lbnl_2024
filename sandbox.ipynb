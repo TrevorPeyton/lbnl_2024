{
 "cells": [
  {
   "cell_type": "code",
   "execution_count": 2,
   "metadata": {},
   "outputs": [],
   "source": [
    "import numpy as np\n",
    "import matplotlib.pyplot as plt\n",
    "import pyvisa\n",
    "import plotly.express as px\n",
    "import pyvisa\n",
    "import pandas as pd\n",
    "from pathlib import Path\n",
    "import matplotlib.patheffects as PathEffects\n",
    "import scipy as sp\n",
    "rm = pyvisa.ResourceManager()\n",
    "SHIFT_REGISTER_SIZE = 16384\n",
    "MAIN_PATH = \"/Users/trevorpeyton/code/lbnl_2024/data\"\n",
    "\n",
    "\n",
    "#rm.open_resource(\"TCPIP::192.168.8.5::INSTR\")\n",
    "#failed to connect during test -- figure out whats going on"
   ]
  },
  {
   "cell_type": "code",
   "execution_count": 4,
   "metadata": {},
   "outputs": [
    {
     "name": "stdout",
     "output_type": "stream",
     "text": [
      "Skipping row 125 due to error in shift file.\n",
      "Skipping row 172 due to error in shift file.\n"
     ]
    }
   ],
   "source": [
    "df = pd.read_csv(f\"{MAIN_PATH}/runlogs/latest.csv\")\n",
    "# process test_type\n",
    "# split test_type column into upset_type, config_0, config_1 and save each into it's own column\n",
    "df[[\"upset_type\", \"config_0\", \"config_1\"]] = df[\"test_type\"].str.split(\"-\", expand=True)\n",
    "\n",
    "# add 6 columns to the right of each row with shift register data\n",
    "for p in range(6):\n",
    "    df[f\"SR{p}\"] = 0\n",
    "\n",
    "# loop through each row\n",
    "for i in range(df.shape[0]):\n",
    "\n",
    "    row = df.iloc[i]\n",
    "\n",
    "    # grab some useful variables for processing\n",
    "    run = row[\"run\"]\n",
    "    upset_type = row[\"upset_type\"]\n",
    "    config_0 = row[\"config_0\"]\n",
    "    config_1 = row[\"config_1\"]\n",
    "\n",
    "\n",
    "    if upset_type == \"seu\":\n",
    "        # process shift register data\n",
    "        try:\n",
    "            with open(f\"{MAIN_PATH}/runs/{run}/shift.txt\", \"r\") as f:\n",
    "                data = np.stack([np.fromiter(line.strip(), dtype=np.int64) for line in f])\n",
    "            data = data.T\n",
    "\n",
    "            # add shift register data to row\n",
    "            for p in range(6):\n",
    "                    if config_0 == \"h\":\n",
    "                        if config_1 == \"1\":\n",
    "                            df.iloc[i, -6+p] = SHIFT_REGISTER_SIZE - data[p].sum()\n",
    "                        if config_1 == \"0\":\n",
    "                            df.iloc[i, -6+p] = data[p].sum()\n",
    "                        if config_1 == \"01\":\n",
    "                            mask = np.array([0, 1]*(SHIFT_REGISTER_SIZE//len([0, 1])))\n",
    "                            masked_data = np.logical_xor(data[p], mask)\n",
    "                            df.iloc[i, -6+p] = masked_data.sum()\n",
    "        except:\n",
    "            print(f\"Skipping row {run} due to error in shift file.\")\n",
    "            continue\n",
    "    # elif upset_type == \"set\":\n",
    "    #     data_list = []\n",
    "    #     for f in Path(f\"data_06/runs/{run}\").iterdir():\n",
    "    #         if f.is_file() and f.suffix == '.txt' and not f.name == \"log.txt\":\n",
    "    #             data_list.append([])\n",
    "    #             with open(f, \"r\") as file:\n",
    "    #                 for line in file:\n",
    "    #                     data_list[-1].append(np.fromiter(line.strip(), dtype=np.int64))\n",
    "    #     stacked_data = np.stack(data_list)\n",
    "    #     stacked_sum = stacked_data.sum(axis=1)\n",
    "    #     stacked_sum[stacked_sum == 32 | stacked_sum == 0] = 0\n",
    "    #     thresholds = stacked_sum.mean(axis=0) + 3*stacked_sum.std(axis=0)\n",
    "    #     stacked_sum[stacked_sum > thresholds] = 0\n",
    "\n",
    "# calculate cross section curves\n",
    "for p in range(6):\n",
    "    df[f\"CSSR{p}\"] = df[f\"SR{p}\"] / df[\"flux\"]"
   ]
  },
  {
   "cell_type": "code",
   "execution_count": 7,
   "metadata": {},
   "outputs": [
    {
     "data": {
      "text/plain": [
       "Index(['run', 'part', 'ion', 'let', 'angle', 'test_type', 'start_time',\n",
       "       'start_date', 'end_time', 'end_date', 'transients', 'flux',\n",
       "       'test/error', 'upset_type', 'config_0', 'config_1', 'SR0', 'SR1', 'SR2',\n",
       "       'SR3', 'SR4', 'SR5', 'CSSR0', 'CSSR1', 'CSSR2', 'CSSR3', 'CSSR4',\n",
       "       'CSSR5'],\n",
       "      dtype='object')"
      ]
     },
     "execution_count": 7,
     "metadata": {},
     "output_type": "execute_result"
    }
   ],
   "source": [
    "df.columns"
   ]
  },
  {
   "cell_type": "code",
   "execution_count": 10,
   "metadata": {},
   "outputs": [
    {
     "data": {
      "text/plain": [
       "123"
      ]
     },
     "execution_count": 10,
     "metadata": {},
     "output_type": "execute_result"
    }
   ],
   "source": [
    "# and not test/error\n",
    "df[(df[\"upset_type\"] == \"seu\") & (df[\"test/error\"] != True)].shape[0]"
   ]
  },
  {
   "cell_type": "code",
   "execution_count": 15,
   "metadata": {},
   "outputs": [
    {
     "data": {
      "text/plain": [
       "array(['2P(1)', '3T(5)', '1L(1)', '6M(5)'], dtype=object)"
      ]
     },
     "execution_count": 15,
     "metadata": {},
     "output_type": "execute_result"
    }
   ],
   "source": [
    "df[(df[\"upset_type\"] == \"seu\") & (df[\"test/error\"] != True)].part.unique()"
   ]
  },
  {
   "cell_type": "code",
   "execution_count": 11,
   "metadata": {},
   "outputs": [
    {
     "data": {
      "text/plain": [
       "61"
      ]
     },
     "execution_count": 11,
     "metadata": {},
     "output_type": "execute_result"
    }
   ],
   "source": [
    "df[(df[\"upset_type\"] == \"set\") & (df[\"test/error\"] != True)].shape[0]"
   ]
  },
  {
   "cell_type": "code",
   "execution_count": 3,
   "metadata": {},
   "outputs": [],
   "source": [
    "part_disabled_lookup = {\n",
    "    \"2P(1)\": [True, True, True, True, True, True], # all shift registers working\n",
    "    \"4M(5)\": [False, False, False, False, False, False], # all shift register not working (we never tested shift registers here)\n",
    "    \"3T(5)\": [False, True, True, True, True, True], # first shift register broken\n",
    "    \"1L(1)\": [False, True, True, True, True, True],\n",
    "    \"6M(5)\": [False, True, True, True, True, True],\n",
    "}"
   ]
  },
  {
   "cell_type": "code",
   "execution_count": 15,
   "metadata": {},
   "outputs": [],
   "source": [
    "seu_subset = df[df[\"upset_type\"] == \"seu\"]\n",
    "# only take cross section values where the part is enabled\n",
    "# we are only looking at CSSR0, so we only need to take the first value of the lookup\n",
    "seu_subset = seu_subset[seu_subset[\"part\"].map(lambda x: part_disabled_lookup[x][0])]\n",
    "# only take where CSSR0 is >0\n",
    "seu_subset = seu_subset[seu_subset[\"CSSR0\"] > 0]"
   ]
  },
  {
   "cell_type": "code",
   "execution_count": 25,
   "metadata": {},
   "outputs": [
    {
     "data": {
      "application/vnd.plotly.v1+json": {
       "config": {
        "plotlyServerURL": "https://plot.ly"
       },
       "data": [
        {
         "customdata": [
          [
           0,
           "0"
          ],
          [
           24,
           "0"
          ],
          [
           26,
           "0"
          ],
          [
           30,
           "0"
          ],
          [
           31,
           "0"
          ],
          [
           50,
           "0"
          ],
          [
           52,
           "0"
          ],
          [
           53,
           "0"
          ],
          [
           55,
           "0"
          ],
          [
           56,
           "0"
          ],
          [
           58,
           "0"
          ],
          [
           59,
           "0"
          ],
          [
           72,
           "0"
          ],
          [
           73,
           "0"
          ],
          [
           74,
           "0"
          ]
         ],
         "hovertemplate": "config_0=h<br>config_1=%{customdata[1]}<br>let=%{x}<br>CSSR0=%{y}<br>run=%{customdata[0]}<extra></extra>",
         "legendgroup": "h",
         "marker": {
          "color": "#636efa",
          "symbol": "circle"
         },
         "mode": "markers",
         "name": "h",
         "orientation": "v",
         "showlegend": true,
         "type": "scatter",
         "x": [
          25,
          9,
          25,
          31,
          31,
          51,
          51,
          51,
          51,
          51,
          51,
          51,
          51,
          1.7,
          1.7
         ],
         "xaxis": "x",
         "y": [
          0.0000018867924528301887,
          0.000001,
          0.000001,
          0.0000029702970297029703,
          0.000001386138613861386,
          0.0000014,
          0.0000017857142857142857,
          0.0000015873015873015873,
          0.000002926829268292683,
          0.0000014705882352941177,
          0.0000019512195121951218,
          0.0000019512195121951218,
          0.000001,
          4.6296296296296297e-7,
          0.00000123
         ],
         "yaxis": "y"
        },
        {
         "hovertemplate": "<b>OLS trendline</b><br>CSSR0 = 1.63733e-08 * let + 1.01946e-06<br>R<sup>2</sup>=0.209560<br><br>config_0=h<br>config_1=0<br>let=%{x}<br>CSSR0=%{y} <b>(trend)</b><extra></extra>",
         "legendgroup": "h",
         "marker": {
          "color": "#636efa",
          "symbol": "circle"
         },
         "mode": "lines",
         "name": "h",
         "showlegend": false,
         "type": "scatter",
         "x": [
          1.7,
          1.7,
          9,
          25,
          25,
          31,
          31,
          51,
          51,
          51,
          51,
          51,
          51,
          51,
          51
         ],
         "xaxis": "x",
         "y": [
          0.0000010472953575938801,
          0.0000010472953575938801,
          0.0000011668205531038987,
          0.0000014287935843587335,
          0.0000014287935843587335,
          0.0000015270334710792966,
          0.0000015270334710792966,
          0.0000018544997601478402,
          0.0000018544997601478402,
          0.0000018544997601478402,
          0.0000018544997601478402,
          0.0000018544997601478402,
          0.0000018544997601478402,
          0.0000018544997601478402,
          0.0000018544997601478402
         ],
         "yaxis": "y"
        },
        {
         "customdata": [
          [
           2,
           "1"
          ],
          [
           6,
           "1"
          ],
          [
           23,
           "1"
          ],
          [
           25,
           "1"
          ],
          [
           28,
           "1"
          ],
          [
           32,
           "1"
          ],
          [
           33,
           "1"
          ],
          [
           34,
           "1"
          ],
          [
           35,
           "1"
          ],
          [
           36,
           "1"
          ],
          [
           37,
           "1"
          ],
          [
           38,
           "1"
          ],
          [
           39,
           "1"
          ],
          [
           40,
           "1"
          ],
          [
           41,
           "1"
          ],
          [
           42,
           "1"
          ],
          [
           60,
           "1"
          ],
          [
           61,
           "1"
          ],
          [
           62,
           "1"
          ],
          [
           63,
           "1"
          ],
          [
           75,
           "1"
          ],
          [
           76,
           "1"
          ],
          [
           80,
           "1"
          ],
          [
           81,
           "1"
          ]
         ],
         "hovertemplate": "config_0=h<br>config_1=%{customdata[1]}<br>let=%{x}<br>CSSR0=%{y}<br>run=%{customdata[0]}<extra></extra>",
         "legendgroup": "h",
         "marker": {
          "color": "#636efa",
          "symbol": "circle"
         },
         "mode": "markers",
         "name": "h",
         "orientation": "v",
         "showlegend": false,
         "type": "scatter",
         "x": [
          25,
          25,
          9,
          9,
          25,
          31,
          31,
          31,
          31,
          31,
          31,
          31,
          31,
          31,
          31,
          31,
          51,
          51,
          51,
          51,
          1.7,
          1.7,
          0.63,
          0.63
         ],
         "xaxis": "x2",
         "y": [
          0.003093,
          0.003097,
          0.000795,
          0.000846,
          0.0031647619047619046,
          0.0014586138613861385,
          0.0036,
          0.003725242718446602,
          0.0036764150943396226,
          0.0036654205607476635,
          0.003585046728971963,
          0.0035292452830188678,
          0.003641904761904762,
          0.003623809523809524,
          0.0035228571428571427,
          0.0037216981132075473,
          0.003353658536585366,
          0.0033607843137254904,
          0.003340487804878049,
          0.00335609756097561,
          0.00000108,
          3.92156862745098e-7,
          1e-7,
          1.2e-7
         ],
         "yaxis": "y2"
        },
        {
         "hovertemplate": "<b>OLS trendline</b><br>CSSR0 = 7.54604e-05 * let + 0.000569308<br>R<sup>2</sup>=0.683810<br><br>config_0=h<br>config_1=1<br>let=%{x}<br>CSSR0=%{y} <b>(trend)</b><extra></extra>",
         "legendgroup": "h",
         "marker": {
          "color": "#636efa",
          "symbol": "circle"
         },
         "mode": "lines",
         "name": "h",
         "showlegend": false,
         "type": "scatter",
         "x": [
          0.63,
          0.63,
          1.7,
          1.7,
          9,
          9,
          25,
          25,
          25,
          31,
          31,
          31,
          31,
          31,
          31,
          31,
          31,
          31,
          31,
          31,
          51,
          51,
          51,
          51
         ],
         "xaxis": "x2",
         "y": [
          0.0006168478336710108,
          0.0006168478336710108,
          0.0006975904082040461,
          0.0006975904082040461,
          0.0012484509634294269,
          0.0012484509634294269,
          0.002455816563923412,
          0.002455816563923412,
          0.002455816563923412,
          0.0029085786641086563,
          0.0029085786641086563,
          0.0029085786641086563,
          0.0029085786641086563,
          0.0029085786641086563,
          0.0029085786641086563,
          0.0029085786641086563,
          0.0029085786641086563,
          0.0029085786641086563,
          0.0029085786641086563,
          0.0029085786641086563,
          0.0044177856647261374,
          0.0044177856647261374,
          0.0044177856647261374,
          0.0044177856647261374
         ],
         "yaxis": "y2"
        },
        {
         "customdata": [
          [
           8,
           "01"
          ],
          [
           10,
           "01"
          ],
          [
           12,
           "01"
          ],
          [
           14,
           "01"
          ],
          [
           16,
           "01"
          ],
          [
           21,
           "01"
          ],
          [
           29,
           "01"
          ],
          [
           43,
           "01"
          ],
          [
           44,
           "01"
          ],
          [
           64,
           "01"
          ],
          [
           65,
           "01"
          ],
          [
           66,
           "01"
          ],
          [
           67,
           "01"
          ],
          [
           77,
           "01"
          ],
          [
           82,
           "01"
          ]
         ],
         "hovertemplate": "config_0=h<br>config_1=%{customdata[1]}<br>let=%{x}<br>CSSR0=%{y}<br>run=%{customdata[0]}<extra></extra>",
         "legendgroup": "h",
         "marker": {
          "color": "#636efa",
          "symbol": "circle"
         },
         "mode": "markers",
         "name": "h",
         "orientation": "v",
         "showlegend": false,
         "type": "scatter",
         "x": [
          25,
          25,
          25,
          25,
          9,
          9,
          25,
          31,
          31,
          51,
          51,
          51,
          51,
          1.7,
          0.63
         ],
         "xaxis": "x3",
         "y": [
          0.001255,
          0.0010666666666666667,
          0.0008139,
          0.0007987254901960784,
          0.0002622,
          0.000293,
          0.0013152380952380952,
          0.0016876190476190476,
          0.0016304761904761904,
          0.0026921951219512196,
          0.002586341463414634,
          0.0024609756097560974,
          0.002571078431372549,
          0.000006322314049586777,
          9e-8
         ],
         "yaxis": "y3"
        },
        {
         "hovertemplate": "<b>OLS trendline</b><br>CSSR0 = 5.34653e-05 * let + -0.000170136<br>R<sup>2</sup>=0.967424<br><br>config_0=h<br>config_1=01<br>let=%{x}<br>CSSR0=%{y} <b>(trend)</b><extra></extra>",
         "legendgroup": "h",
         "marker": {
          "color": "#636efa",
          "symbol": "circle"
         },
         "mode": "lines",
         "name": "h",
         "showlegend": false,
         "type": "scatter",
         "x": [
          0.63,
          1.7,
          9,
          9,
          25,
          25,
          25,
          25,
          25,
          31,
          31,
          51,
          51,
          51,
          51
         ],
         "xaxis": "x3",
         "y": [
          -0.0001364530148873216,
          -0.00007924517346741145,
          0.0003110513147244989,
          0.0003110513147244989,
          0.0011664956724053983,
          0.0011664956724053983,
          0.0011664956724053983,
          0.0011664956724053983,
          0.0011664956724053983,
          0.0014872873065357357,
          0.0014872873065357357,
          0.00255659275363686,
          0.00255659275363686,
          0.00255659275363686,
          0.00255659275363686
         ],
         "yaxis": "y3"
        }
       ],
       "layout": {
        "annotations": [
         {
          "font": {},
          "showarrow": false,
          "text": "config_1=0",
          "x": 0.15999999999999998,
          "xanchor": "center",
          "xref": "paper",
          "y": 1,
          "yanchor": "bottom",
          "yref": "paper"
         },
         {
          "font": {},
          "showarrow": false,
          "text": "config_1=1",
          "x": 0.49999999999999994,
          "xanchor": "center",
          "xref": "paper",
          "y": 1,
          "yanchor": "bottom",
          "yref": "paper"
         },
         {
          "font": {},
          "showarrow": false,
          "text": "config_1=01",
          "x": 0.8399999999999999,
          "xanchor": "center",
          "xref": "paper",
          "y": 1,
          "yanchor": "bottom",
          "yref": "paper"
         }
        ],
        "legend": {
         "title": {
          "text": "config_0"
         },
         "tracegroupgap": 0
        },
        "template": {
         "data": {
          "bar": [
           {
            "error_x": {
             "color": "#2a3f5f"
            },
            "error_y": {
             "color": "#2a3f5f"
            },
            "marker": {
             "line": {
              "color": "#E5ECF6",
              "width": 0.5
             },
             "pattern": {
              "fillmode": "overlay",
              "size": 10,
              "solidity": 0.2
             }
            },
            "type": "bar"
           }
          ],
          "barpolar": [
           {
            "marker": {
             "line": {
              "color": "#E5ECF6",
              "width": 0.5
             },
             "pattern": {
              "fillmode": "overlay",
              "size": 10,
              "solidity": 0.2
             }
            },
            "type": "barpolar"
           }
          ],
          "carpet": [
           {
            "aaxis": {
             "endlinecolor": "#2a3f5f",
             "gridcolor": "white",
             "linecolor": "white",
             "minorgridcolor": "white",
             "startlinecolor": "#2a3f5f"
            },
            "baxis": {
             "endlinecolor": "#2a3f5f",
             "gridcolor": "white",
             "linecolor": "white",
             "minorgridcolor": "white",
             "startlinecolor": "#2a3f5f"
            },
            "type": "carpet"
           }
          ],
          "choropleth": [
           {
            "colorbar": {
             "outlinewidth": 0,
             "ticks": ""
            },
            "type": "choropleth"
           }
          ],
          "contour": [
           {
            "colorbar": {
             "outlinewidth": 0,
             "ticks": ""
            },
            "colorscale": [
             [
              0,
              "#0d0887"
             ],
             [
              0.1111111111111111,
              "#46039f"
             ],
             [
              0.2222222222222222,
              "#7201a8"
             ],
             [
              0.3333333333333333,
              "#9c179e"
             ],
             [
              0.4444444444444444,
              "#bd3786"
             ],
             [
              0.5555555555555556,
              "#d8576b"
             ],
             [
              0.6666666666666666,
              "#ed7953"
             ],
             [
              0.7777777777777778,
              "#fb9f3a"
             ],
             [
              0.8888888888888888,
              "#fdca26"
             ],
             [
              1,
              "#f0f921"
             ]
            ],
            "type": "contour"
           }
          ],
          "contourcarpet": [
           {
            "colorbar": {
             "outlinewidth": 0,
             "ticks": ""
            },
            "type": "contourcarpet"
           }
          ],
          "heatmap": [
           {
            "colorbar": {
             "outlinewidth": 0,
             "ticks": ""
            },
            "colorscale": [
             [
              0,
              "#0d0887"
             ],
             [
              0.1111111111111111,
              "#46039f"
             ],
             [
              0.2222222222222222,
              "#7201a8"
             ],
             [
              0.3333333333333333,
              "#9c179e"
             ],
             [
              0.4444444444444444,
              "#bd3786"
             ],
             [
              0.5555555555555556,
              "#d8576b"
             ],
             [
              0.6666666666666666,
              "#ed7953"
             ],
             [
              0.7777777777777778,
              "#fb9f3a"
             ],
             [
              0.8888888888888888,
              "#fdca26"
             ],
             [
              1,
              "#f0f921"
             ]
            ],
            "type": "heatmap"
           }
          ],
          "heatmapgl": [
           {
            "colorbar": {
             "outlinewidth": 0,
             "ticks": ""
            },
            "colorscale": [
             [
              0,
              "#0d0887"
             ],
             [
              0.1111111111111111,
              "#46039f"
             ],
             [
              0.2222222222222222,
              "#7201a8"
             ],
             [
              0.3333333333333333,
              "#9c179e"
             ],
             [
              0.4444444444444444,
              "#bd3786"
             ],
             [
              0.5555555555555556,
              "#d8576b"
             ],
             [
              0.6666666666666666,
              "#ed7953"
             ],
             [
              0.7777777777777778,
              "#fb9f3a"
             ],
             [
              0.8888888888888888,
              "#fdca26"
             ],
             [
              1,
              "#f0f921"
             ]
            ],
            "type": "heatmapgl"
           }
          ],
          "histogram": [
           {
            "marker": {
             "pattern": {
              "fillmode": "overlay",
              "size": 10,
              "solidity": 0.2
             }
            },
            "type": "histogram"
           }
          ],
          "histogram2d": [
           {
            "colorbar": {
             "outlinewidth": 0,
             "ticks": ""
            },
            "colorscale": [
             [
              0,
              "#0d0887"
             ],
             [
              0.1111111111111111,
              "#46039f"
             ],
             [
              0.2222222222222222,
              "#7201a8"
             ],
             [
              0.3333333333333333,
              "#9c179e"
             ],
             [
              0.4444444444444444,
              "#bd3786"
             ],
             [
              0.5555555555555556,
              "#d8576b"
             ],
             [
              0.6666666666666666,
              "#ed7953"
             ],
             [
              0.7777777777777778,
              "#fb9f3a"
             ],
             [
              0.8888888888888888,
              "#fdca26"
             ],
             [
              1,
              "#f0f921"
             ]
            ],
            "type": "histogram2d"
           }
          ],
          "histogram2dcontour": [
           {
            "colorbar": {
             "outlinewidth": 0,
             "ticks": ""
            },
            "colorscale": [
             [
              0,
              "#0d0887"
             ],
             [
              0.1111111111111111,
              "#46039f"
             ],
             [
              0.2222222222222222,
              "#7201a8"
             ],
             [
              0.3333333333333333,
              "#9c179e"
             ],
             [
              0.4444444444444444,
              "#bd3786"
             ],
             [
              0.5555555555555556,
              "#d8576b"
             ],
             [
              0.6666666666666666,
              "#ed7953"
             ],
             [
              0.7777777777777778,
              "#fb9f3a"
             ],
             [
              0.8888888888888888,
              "#fdca26"
             ],
             [
              1,
              "#f0f921"
             ]
            ],
            "type": "histogram2dcontour"
           }
          ],
          "mesh3d": [
           {
            "colorbar": {
             "outlinewidth": 0,
             "ticks": ""
            },
            "type": "mesh3d"
           }
          ],
          "parcoords": [
           {
            "line": {
             "colorbar": {
              "outlinewidth": 0,
              "ticks": ""
             }
            },
            "type": "parcoords"
           }
          ],
          "pie": [
           {
            "automargin": true,
            "type": "pie"
           }
          ],
          "scatter": [
           {
            "fillpattern": {
             "fillmode": "overlay",
             "size": 10,
             "solidity": 0.2
            },
            "type": "scatter"
           }
          ],
          "scatter3d": [
           {
            "line": {
             "colorbar": {
              "outlinewidth": 0,
              "ticks": ""
             }
            },
            "marker": {
             "colorbar": {
              "outlinewidth": 0,
              "ticks": ""
             }
            },
            "type": "scatter3d"
           }
          ],
          "scattercarpet": [
           {
            "marker": {
             "colorbar": {
              "outlinewidth": 0,
              "ticks": ""
             }
            },
            "type": "scattercarpet"
           }
          ],
          "scattergeo": [
           {
            "marker": {
             "colorbar": {
              "outlinewidth": 0,
              "ticks": ""
             }
            },
            "type": "scattergeo"
           }
          ],
          "scattergl": [
           {
            "marker": {
             "colorbar": {
              "outlinewidth": 0,
              "ticks": ""
             }
            },
            "type": "scattergl"
           }
          ],
          "scattermapbox": [
           {
            "marker": {
             "colorbar": {
              "outlinewidth": 0,
              "ticks": ""
             }
            },
            "type": "scattermapbox"
           }
          ],
          "scatterpolar": [
           {
            "marker": {
             "colorbar": {
              "outlinewidth": 0,
              "ticks": ""
             }
            },
            "type": "scatterpolar"
           }
          ],
          "scatterpolargl": [
           {
            "marker": {
             "colorbar": {
              "outlinewidth": 0,
              "ticks": ""
             }
            },
            "type": "scatterpolargl"
           }
          ],
          "scatterternary": [
           {
            "marker": {
             "colorbar": {
              "outlinewidth": 0,
              "ticks": ""
             }
            },
            "type": "scatterternary"
           }
          ],
          "surface": [
           {
            "colorbar": {
             "outlinewidth": 0,
             "ticks": ""
            },
            "colorscale": [
             [
              0,
              "#0d0887"
             ],
             [
              0.1111111111111111,
              "#46039f"
             ],
             [
              0.2222222222222222,
              "#7201a8"
             ],
             [
              0.3333333333333333,
              "#9c179e"
             ],
             [
              0.4444444444444444,
              "#bd3786"
             ],
             [
              0.5555555555555556,
              "#d8576b"
             ],
             [
              0.6666666666666666,
              "#ed7953"
             ],
             [
              0.7777777777777778,
              "#fb9f3a"
             ],
             [
              0.8888888888888888,
              "#fdca26"
             ],
             [
              1,
              "#f0f921"
             ]
            ],
            "type": "surface"
           }
          ],
          "table": [
           {
            "cells": {
             "fill": {
              "color": "#EBF0F8"
             },
             "line": {
              "color": "white"
             }
            },
            "header": {
             "fill": {
              "color": "#C8D4E3"
             },
             "line": {
              "color": "white"
             }
            },
            "type": "table"
           }
          ]
         },
         "layout": {
          "annotationdefaults": {
           "arrowcolor": "#2a3f5f",
           "arrowhead": 0,
           "arrowwidth": 1
          },
          "autotypenumbers": "strict",
          "coloraxis": {
           "colorbar": {
            "outlinewidth": 0,
            "ticks": ""
           }
          },
          "colorscale": {
           "diverging": [
            [
             0,
             "#8e0152"
            ],
            [
             0.1,
             "#c51b7d"
            ],
            [
             0.2,
             "#de77ae"
            ],
            [
             0.3,
             "#f1b6da"
            ],
            [
             0.4,
             "#fde0ef"
            ],
            [
             0.5,
             "#f7f7f7"
            ],
            [
             0.6,
             "#e6f5d0"
            ],
            [
             0.7,
             "#b8e186"
            ],
            [
             0.8,
             "#7fbc41"
            ],
            [
             0.9,
             "#4d9221"
            ],
            [
             1,
             "#276419"
            ]
           ],
           "sequential": [
            [
             0,
             "#0d0887"
            ],
            [
             0.1111111111111111,
             "#46039f"
            ],
            [
             0.2222222222222222,
             "#7201a8"
            ],
            [
             0.3333333333333333,
             "#9c179e"
            ],
            [
             0.4444444444444444,
             "#bd3786"
            ],
            [
             0.5555555555555556,
             "#d8576b"
            ],
            [
             0.6666666666666666,
             "#ed7953"
            ],
            [
             0.7777777777777778,
             "#fb9f3a"
            ],
            [
             0.8888888888888888,
             "#fdca26"
            ],
            [
             1,
             "#f0f921"
            ]
           ],
           "sequentialminus": [
            [
             0,
             "#0d0887"
            ],
            [
             0.1111111111111111,
             "#46039f"
            ],
            [
             0.2222222222222222,
             "#7201a8"
            ],
            [
             0.3333333333333333,
             "#9c179e"
            ],
            [
             0.4444444444444444,
             "#bd3786"
            ],
            [
             0.5555555555555556,
             "#d8576b"
            ],
            [
             0.6666666666666666,
             "#ed7953"
            ],
            [
             0.7777777777777778,
             "#fb9f3a"
            ],
            [
             0.8888888888888888,
             "#fdca26"
            ],
            [
             1,
             "#f0f921"
            ]
           ]
          },
          "colorway": [
           "#636efa",
           "#EF553B",
           "#00cc96",
           "#ab63fa",
           "#FFA15A",
           "#19d3f3",
           "#FF6692",
           "#B6E880",
           "#FF97FF",
           "#FECB52"
          ],
          "font": {
           "color": "#2a3f5f"
          },
          "geo": {
           "bgcolor": "white",
           "lakecolor": "white",
           "landcolor": "#E5ECF6",
           "showlakes": true,
           "showland": true,
           "subunitcolor": "white"
          },
          "hoverlabel": {
           "align": "left"
          },
          "hovermode": "closest",
          "mapbox": {
           "style": "light"
          },
          "paper_bgcolor": "white",
          "plot_bgcolor": "#E5ECF6",
          "polar": {
           "angularaxis": {
            "gridcolor": "white",
            "linecolor": "white",
            "ticks": ""
           },
           "bgcolor": "#E5ECF6",
           "radialaxis": {
            "gridcolor": "white",
            "linecolor": "white",
            "ticks": ""
           }
          },
          "scene": {
           "xaxis": {
            "backgroundcolor": "#E5ECF6",
            "gridcolor": "white",
            "gridwidth": 2,
            "linecolor": "white",
            "showbackground": true,
            "ticks": "",
            "zerolinecolor": "white"
           },
           "yaxis": {
            "backgroundcolor": "#E5ECF6",
            "gridcolor": "white",
            "gridwidth": 2,
            "linecolor": "white",
            "showbackground": true,
            "ticks": "",
            "zerolinecolor": "white"
           },
           "zaxis": {
            "backgroundcolor": "#E5ECF6",
            "gridcolor": "white",
            "gridwidth": 2,
            "linecolor": "white",
            "showbackground": true,
            "ticks": "",
            "zerolinecolor": "white"
           }
          },
          "shapedefaults": {
           "line": {
            "color": "#2a3f5f"
           }
          },
          "ternary": {
           "aaxis": {
            "gridcolor": "white",
            "linecolor": "white",
            "ticks": ""
           },
           "baxis": {
            "gridcolor": "white",
            "linecolor": "white",
            "ticks": ""
           },
           "bgcolor": "#E5ECF6",
           "caxis": {
            "gridcolor": "white",
            "linecolor": "white",
            "ticks": ""
           }
          },
          "title": {
           "x": 0.05
          },
          "xaxis": {
           "automargin": true,
           "gridcolor": "white",
           "linecolor": "white",
           "ticks": "",
           "title": {
            "standoff": 15
           },
           "zerolinecolor": "white",
           "zerolinewidth": 2
          },
          "yaxis": {
           "automargin": true,
           "gridcolor": "white",
           "linecolor": "white",
           "ticks": "",
           "title": {
            "standoff": 15
           },
           "zerolinecolor": "white",
           "zerolinewidth": 2
          }
         }
        },
        "title": {
         "text": "LET vs. Cross Section for SEU"
        },
        "xaxis": {
         "anchor": "y",
         "domain": [
          0,
          0.31999999999999995
         ],
         "title": {
          "text": "let"
         }
        },
        "xaxis2": {
         "anchor": "y2",
         "domain": [
          0.33999999999999997,
          0.6599999999999999
         ],
         "matches": "x",
         "title": {
          "text": "let"
         }
        },
        "xaxis3": {
         "anchor": "y3",
         "domain": [
          0.6799999999999999,
          0.9999999999999999
         ],
         "matches": "x",
         "title": {
          "text": "let"
         }
        },
        "yaxis": {
         "anchor": "x",
         "domain": [
          0,
          1
         ],
         "tickformat": ".2e",
         "title": {
          "text": "CSSR0"
         },
         "type": "log"
        },
        "yaxis2": {
         "anchor": "x2",
         "domain": [
          0,
          1
         ],
         "matches": "y",
         "showticklabels": false,
         "type": "log"
        },
        "yaxis3": {
         "anchor": "x3",
         "domain": [
          0,
          1
         ],
         "matches": "y",
         "showticklabels": false,
         "type": "log"
        }
       }
      }
     },
     "metadata": {},
     "output_type": "display_data"
    }
   ],
   "source": [
    "fig = px.scatter(seu_subset,\n",
    "           x=\"let\",\n",
    "           y=\"CSSR0\",\n",
    "           color=\"config_0\",\n",
    "           title=\"LET vs. Cross Section for SEU\",\n",
    "           hover_data=[\"run\", \"config_1\"], log_y=True,\n",
    "           facet_col=\"config_1\",\n",
    "           trendline=\"ols\"#, trendline_options=dict(log_y=True)\n",
    "    )\n",
    "    \n",
    "fig.update_layout(yaxis_tickformat=\".2e\")\n",
    "# show weibull fit on plot\n",
    "fig.show()"
   ]
  },
  {
   "cell_type": "code",
   "execution_count": null,
   "metadata": {},
   "outputs": [],
   "source": []
  },
  {
   "cell_type": "code",
   "execution_count": 248,
   "metadata": {},
   "outputs": [],
   "source": [
    "run = 1\n",
    "data_list = []\n",
    "for f in Path(f\"{MAIN_PATH}/runs/{run}\").iterdir():\n",
    "    if f.is_file() and f.suffix == '.txt' and not f.name == \"log.txt\":\n",
    "        data_list.append([])\n",
    "        with open(f, \"r\") as file:\n",
    "            for line in file:\n",
    "                data_list[-1].append(np.fromiter(line.strip(), dtype=np.int64))\n",
    "stacked_data = np.stack(data_list)"
   ]
  },
  {
   "cell_type": "code",
   "execution_count": 250,
   "metadata": {},
   "outputs": [
    {
     "data": {
      "text/plain": [
       "(131, 32, 4)"
      ]
     },
     "execution_count": 250,
     "metadata": {},
     "output_type": "execute_result"
    }
   ],
   "source": [
    "stacked_data.shape"
   ]
  },
  {
   "cell_type": "code",
   "execution_count": 251,
   "metadata": {},
   "outputs": [],
   "source": [
    "stacked_sum = stacked_data.sum(axis=1)\n",
    "stacked_sum[(stacked_sum == 32) | (stacked_sum == 0)] = 0\n",
    "thresholds = stacked_sum.mean(axis=0) + 3*stacked_sum.std(axis=0)\n",
    "stacked_sum[stacked_sum > thresholds] = 0"
   ]
  },
  {
   "cell_type": "code",
   "execution_count": 268,
   "metadata": {},
   "outputs": [],
   "source": [
    "# get value counts for each TDC\n",
    "tdc_counts = [np.unique(stacked_sum[:, n], return_counts=True) for n in range(4)]\n",
    "\n",
    "# generate a dataframe for plotly express\n",
    "tdc_df = pd.DataFrame({\n",
    "    \"TDC\": np.repeat(np.arange(4), 32),\n",
    "    \"Value\": np.tile(np.arange(32), 4),\n",
    "    \"Count\": np.concatenate([c[1] for c in tdc_counts])\n",
    "})"
   ]
  },
  {
   "cell_type": "code",
   "execution_count": 265,
   "metadata": {},
   "outputs": [
    {
     "ename": "ValueError",
     "evalue": "Mime type rendering requires nbformat>=4.2.0 but it is not installed",
     "output_type": "error",
     "traceback": [
      "\u001b[0;31m---------------------------------------------------------------------------\u001b[0m",
      "\u001b[0;31mValueError\u001b[0m                                Traceback (most recent call last)",
      "File \u001b[0;32m~/miniconda3/envs/lbnl24/lib/python3.10/site-packages/IPython/core/formatters.py:922\u001b[0m, in \u001b[0;36mIPythonDisplayFormatter.__call__\u001b[0;34m(self, obj)\u001b[0m\n\u001b[1;32m    920\u001b[0m method \u001b[38;5;241m=\u001b[39m get_real_method(obj, \u001b[38;5;28mself\u001b[39m\u001b[38;5;241m.\u001b[39mprint_method)\n\u001b[1;32m    921\u001b[0m \u001b[38;5;28;01mif\u001b[39;00m method \u001b[38;5;129;01mis\u001b[39;00m \u001b[38;5;129;01mnot\u001b[39;00m \u001b[38;5;28;01mNone\u001b[39;00m:\n\u001b[0;32m--> 922\u001b[0m     \u001b[43mmethod\u001b[49m\u001b[43m(\u001b[49m\u001b[43m)\u001b[49m\n\u001b[1;32m    923\u001b[0m     \u001b[38;5;28;01mreturn\u001b[39;00m \u001b[38;5;28;01mTrue\u001b[39;00m\n",
      "File \u001b[0;32m~/miniconda3/envs/lbnl24/lib/python3.10/site-packages/plotly/basedatatypes.py:832\u001b[0m, in \u001b[0;36mBaseFigure._ipython_display_\u001b[0;34m(self)\u001b[0m\n\u001b[1;32m    829\u001b[0m \u001b[38;5;28;01mimport\u001b[39;00m \u001b[38;5;21;01mplotly\u001b[39;00m\u001b[38;5;21;01m.\u001b[39;00m\u001b[38;5;21;01mio\u001b[39;00m \u001b[38;5;28;01mas\u001b[39;00m \u001b[38;5;21;01mpio\u001b[39;00m\n\u001b[1;32m    831\u001b[0m \u001b[38;5;28;01mif\u001b[39;00m pio\u001b[38;5;241m.\u001b[39mrenderers\u001b[38;5;241m.\u001b[39mrender_on_display \u001b[38;5;129;01mand\u001b[39;00m pio\u001b[38;5;241m.\u001b[39mrenderers\u001b[38;5;241m.\u001b[39mdefault:\n\u001b[0;32m--> 832\u001b[0m     \u001b[43mpio\u001b[49m\u001b[38;5;241;43m.\u001b[39;49m\u001b[43mshow\u001b[49m\u001b[43m(\u001b[49m\u001b[38;5;28;43mself\u001b[39;49m\u001b[43m)\u001b[49m\n\u001b[1;32m    833\u001b[0m \u001b[38;5;28;01melse\u001b[39;00m:\n\u001b[1;32m    834\u001b[0m     \u001b[38;5;28mprint\u001b[39m(\u001b[38;5;28mrepr\u001b[39m(\u001b[38;5;28mself\u001b[39m))\n",
      "File \u001b[0;32m~/miniconda3/envs/lbnl24/lib/python3.10/site-packages/plotly/io/_renderers.py:394\u001b[0m, in \u001b[0;36mshow\u001b[0;34m(fig, renderer, validate, **kwargs)\u001b[0m\n\u001b[1;32m    389\u001b[0m         \u001b[38;5;28;01mraise\u001b[39;00m \u001b[38;5;167;01mValueError\u001b[39;00m(\n\u001b[1;32m    390\u001b[0m             \u001b[38;5;124m\"\u001b[39m\u001b[38;5;124mMime type rendering requires ipython but it is not installed\u001b[39m\u001b[38;5;124m\"\u001b[39m\n\u001b[1;32m    391\u001b[0m         )\n\u001b[1;32m    393\u001b[0m     \u001b[38;5;28;01mif\u001b[39;00m \u001b[38;5;129;01mnot\u001b[39;00m nbformat \u001b[38;5;129;01mor\u001b[39;00m Version(nbformat\u001b[38;5;241m.\u001b[39m__version__) \u001b[38;5;241m<\u001b[39m Version(\u001b[38;5;124m\"\u001b[39m\u001b[38;5;124m4.2.0\u001b[39m\u001b[38;5;124m\"\u001b[39m):\n\u001b[0;32m--> 394\u001b[0m         \u001b[38;5;28;01mraise\u001b[39;00m \u001b[38;5;167;01mValueError\u001b[39;00m(\n\u001b[1;32m    395\u001b[0m             \u001b[38;5;124m\"\u001b[39m\u001b[38;5;124mMime type rendering requires nbformat>=4.2.0 but it is not installed\u001b[39m\u001b[38;5;124m\"\u001b[39m\n\u001b[1;32m    396\u001b[0m         )\n\u001b[1;32m    398\u001b[0m     ipython_display\u001b[38;5;241m.\u001b[39mdisplay(bundle, raw\u001b[38;5;241m=\u001b[39m\u001b[38;5;28;01mTrue\u001b[39;00m)\n\u001b[1;32m    400\u001b[0m \u001b[38;5;66;03m# external renderers\u001b[39;00m\n",
      "\u001b[0;31mValueError\u001b[0m: Mime type rendering requires nbformat>=4.2.0 but it is not installed"
     ]
    },
    {
     "data": {
      "application/vnd.plotly.v1+json": {
       "config": {
        "plotlyServerURL": "https://plot.ly"
       },
       "data": [
        {
         "alignmentgroup": "True",
         "hovertemplate": "TDC=%{x}<br>Hits=%{y}<extra></extra>",
         "legendgroup": "",
         "marker": {
          "color": "#636efa",
          "pattern": {
           "shape": ""
          }
         },
         "name": "",
         "offsetgroup": "",
         "orientation": "v",
         "showlegend": false,
         "textposition": "auto",
         "type": "bar",
         "x": [
          0,
          2,
          3,
          4,
          5,
          6
         ],
         "xaxis": "x",
         "y": [
          338,
          49,
          89,
          39,
          8,
          1
         ],
         "yaxis": "y"
        }
       ],
       "layout": {
        "barmode": "relative",
        "legend": {
         "tracegroupgap": 0
        },
        "template": {
         "data": {
          "bar": [
           {
            "error_x": {
             "color": "#2a3f5f"
            },
            "error_y": {
             "color": "#2a3f5f"
            },
            "marker": {
             "line": {
              "color": "#E5ECF6",
              "width": 0.5
             },
             "pattern": {
              "fillmode": "overlay",
              "size": 10,
              "solidity": 0.2
             }
            },
            "type": "bar"
           }
          ],
          "barpolar": [
           {
            "marker": {
             "line": {
              "color": "#E5ECF6",
              "width": 0.5
             },
             "pattern": {
              "fillmode": "overlay",
              "size": 10,
              "solidity": 0.2
             }
            },
            "type": "barpolar"
           }
          ],
          "carpet": [
           {
            "aaxis": {
             "endlinecolor": "#2a3f5f",
             "gridcolor": "white",
             "linecolor": "white",
             "minorgridcolor": "white",
             "startlinecolor": "#2a3f5f"
            },
            "baxis": {
             "endlinecolor": "#2a3f5f",
             "gridcolor": "white",
             "linecolor": "white",
             "minorgridcolor": "white",
             "startlinecolor": "#2a3f5f"
            },
            "type": "carpet"
           }
          ],
          "choropleth": [
           {
            "colorbar": {
             "outlinewidth": 0,
             "ticks": ""
            },
            "type": "choropleth"
           }
          ],
          "contour": [
           {
            "colorbar": {
             "outlinewidth": 0,
             "ticks": ""
            },
            "colorscale": [
             [
              0,
              "#0d0887"
             ],
             [
              0.1111111111111111,
              "#46039f"
             ],
             [
              0.2222222222222222,
              "#7201a8"
             ],
             [
              0.3333333333333333,
              "#9c179e"
             ],
             [
              0.4444444444444444,
              "#bd3786"
             ],
             [
              0.5555555555555556,
              "#d8576b"
             ],
             [
              0.6666666666666666,
              "#ed7953"
             ],
             [
              0.7777777777777778,
              "#fb9f3a"
             ],
             [
              0.8888888888888888,
              "#fdca26"
             ],
             [
              1,
              "#f0f921"
             ]
            ],
            "type": "contour"
           }
          ],
          "contourcarpet": [
           {
            "colorbar": {
             "outlinewidth": 0,
             "ticks": ""
            },
            "type": "contourcarpet"
           }
          ],
          "heatmap": [
           {
            "colorbar": {
             "outlinewidth": 0,
             "ticks": ""
            },
            "colorscale": [
             [
              0,
              "#0d0887"
             ],
             [
              0.1111111111111111,
              "#46039f"
             ],
             [
              0.2222222222222222,
              "#7201a8"
             ],
             [
              0.3333333333333333,
              "#9c179e"
             ],
             [
              0.4444444444444444,
              "#bd3786"
             ],
             [
              0.5555555555555556,
              "#d8576b"
             ],
             [
              0.6666666666666666,
              "#ed7953"
             ],
             [
              0.7777777777777778,
              "#fb9f3a"
             ],
             [
              0.8888888888888888,
              "#fdca26"
             ],
             [
              1,
              "#f0f921"
             ]
            ],
            "type": "heatmap"
           }
          ],
          "heatmapgl": [
           {
            "colorbar": {
             "outlinewidth": 0,
             "ticks": ""
            },
            "colorscale": [
             [
              0,
              "#0d0887"
             ],
             [
              0.1111111111111111,
              "#46039f"
             ],
             [
              0.2222222222222222,
              "#7201a8"
             ],
             [
              0.3333333333333333,
              "#9c179e"
             ],
             [
              0.4444444444444444,
              "#bd3786"
             ],
             [
              0.5555555555555556,
              "#d8576b"
             ],
             [
              0.6666666666666666,
              "#ed7953"
             ],
             [
              0.7777777777777778,
              "#fb9f3a"
             ],
             [
              0.8888888888888888,
              "#fdca26"
             ],
             [
              1,
              "#f0f921"
             ]
            ],
            "type": "heatmapgl"
           }
          ],
          "histogram": [
           {
            "marker": {
             "pattern": {
              "fillmode": "overlay",
              "size": 10,
              "solidity": 0.2
             }
            },
            "type": "histogram"
           }
          ],
          "histogram2d": [
           {
            "colorbar": {
             "outlinewidth": 0,
             "ticks": ""
            },
            "colorscale": [
             [
              0,
              "#0d0887"
             ],
             [
              0.1111111111111111,
              "#46039f"
             ],
             [
              0.2222222222222222,
              "#7201a8"
             ],
             [
              0.3333333333333333,
              "#9c179e"
             ],
             [
              0.4444444444444444,
              "#bd3786"
             ],
             [
              0.5555555555555556,
              "#d8576b"
             ],
             [
              0.6666666666666666,
              "#ed7953"
             ],
             [
              0.7777777777777778,
              "#fb9f3a"
             ],
             [
              0.8888888888888888,
              "#fdca26"
             ],
             [
              1,
              "#f0f921"
             ]
            ],
            "type": "histogram2d"
           }
          ],
          "histogram2dcontour": [
           {
            "colorbar": {
             "outlinewidth": 0,
             "ticks": ""
            },
            "colorscale": [
             [
              0,
              "#0d0887"
             ],
             [
              0.1111111111111111,
              "#46039f"
             ],
             [
              0.2222222222222222,
              "#7201a8"
             ],
             [
              0.3333333333333333,
              "#9c179e"
             ],
             [
              0.4444444444444444,
              "#bd3786"
             ],
             [
              0.5555555555555556,
              "#d8576b"
             ],
             [
              0.6666666666666666,
              "#ed7953"
             ],
             [
              0.7777777777777778,
              "#fb9f3a"
             ],
             [
              0.8888888888888888,
              "#fdca26"
             ],
             [
              1,
              "#f0f921"
             ]
            ],
            "type": "histogram2dcontour"
           }
          ],
          "mesh3d": [
           {
            "colorbar": {
             "outlinewidth": 0,
             "ticks": ""
            },
            "type": "mesh3d"
           }
          ],
          "parcoords": [
           {
            "line": {
             "colorbar": {
              "outlinewidth": 0,
              "ticks": ""
             }
            },
            "type": "parcoords"
           }
          ],
          "pie": [
           {
            "automargin": true,
            "type": "pie"
           }
          ],
          "scatter": [
           {
            "fillpattern": {
             "fillmode": "overlay",
             "size": 10,
             "solidity": 0.2
            },
            "type": "scatter"
           }
          ],
          "scatter3d": [
           {
            "line": {
             "colorbar": {
              "outlinewidth": 0,
              "ticks": ""
             }
            },
            "marker": {
             "colorbar": {
              "outlinewidth": 0,
              "ticks": ""
             }
            },
            "type": "scatter3d"
           }
          ],
          "scattercarpet": [
           {
            "marker": {
             "colorbar": {
              "outlinewidth": 0,
              "ticks": ""
             }
            },
            "type": "scattercarpet"
           }
          ],
          "scattergeo": [
           {
            "marker": {
             "colorbar": {
              "outlinewidth": 0,
              "ticks": ""
             }
            },
            "type": "scattergeo"
           }
          ],
          "scattergl": [
           {
            "marker": {
             "colorbar": {
              "outlinewidth": 0,
              "ticks": ""
             }
            },
            "type": "scattergl"
           }
          ],
          "scattermapbox": [
           {
            "marker": {
             "colorbar": {
              "outlinewidth": 0,
              "ticks": ""
             }
            },
            "type": "scattermapbox"
           }
          ],
          "scatterpolar": [
           {
            "marker": {
             "colorbar": {
              "outlinewidth": 0,
              "ticks": ""
             }
            },
            "type": "scatterpolar"
           }
          ],
          "scatterpolargl": [
           {
            "marker": {
             "colorbar": {
              "outlinewidth": 0,
              "ticks": ""
             }
            },
            "type": "scatterpolargl"
           }
          ],
          "scatterternary": [
           {
            "marker": {
             "colorbar": {
              "outlinewidth": 0,
              "ticks": ""
             }
            },
            "type": "scatterternary"
           }
          ],
          "surface": [
           {
            "colorbar": {
             "outlinewidth": 0,
             "ticks": ""
            },
            "colorscale": [
             [
              0,
              "#0d0887"
             ],
             [
              0.1111111111111111,
              "#46039f"
             ],
             [
              0.2222222222222222,
              "#7201a8"
             ],
             [
              0.3333333333333333,
              "#9c179e"
             ],
             [
              0.4444444444444444,
              "#bd3786"
             ],
             [
              0.5555555555555556,
              "#d8576b"
             ],
             [
              0.6666666666666666,
              "#ed7953"
             ],
             [
              0.7777777777777778,
              "#fb9f3a"
             ],
             [
              0.8888888888888888,
              "#fdca26"
             ],
             [
              1,
              "#f0f921"
             ]
            ],
            "type": "surface"
           }
          ],
          "table": [
           {
            "cells": {
             "fill": {
              "color": "#EBF0F8"
             },
             "line": {
              "color": "white"
             }
            },
            "header": {
             "fill": {
              "color": "#C8D4E3"
             },
             "line": {
              "color": "white"
             }
            },
            "type": "table"
           }
          ]
         },
         "layout": {
          "annotationdefaults": {
           "arrowcolor": "#2a3f5f",
           "arrowhead": 0,
           "arrowwidth": 1
          },
          "autotypenumbers": "strict",
          "coloraxis": {
           "colorbar": {
            "outlinewidth": 0,
            "ticks": ""
           }
          },
          "colorscale": {
           "diverging": [
            [
             0,
             "#8e0152"
            ],
            [
             0.1,
             "#c51b7d"
            ],
            [
             0.2,
             "#de77ae"
            ],
            [
             0.3,
             "#f1b6da"
            ],
            [
             0.4,
             "#fde0ef"
            ],
            [
             0.5,
             "#f7f7f7"
            ],
            [
             0.6,
             "#e6f5d0"
            ],
            [
             0.7,
             "#b8e186"
            ],
            [
             0.8,
             "#7fbc41"
            ],
            [
             0.9,
             "#4d9221"
            ],
            [
             1,
             "#276419"
            ]
           ],
           "sequential": [
            [
             0,
             "#0d0887"
            ],
            [
             0.1111111111111111,
             "#46039f"
            ],
            [
             0.2222222222222222,
             "#7201a8"
            ],
            [
             0.3333333333333333,
             "#9c179e"
            ],
            [
             0.4444444444444444,
             "#bd3786"
            ],
            [
             0.5555555555555556,
             "#d8576b"
            ],
            [
             0.6666666666666666,
             "#ed7953"
            ],
            [
             0.7777777777777778,
             "#fb9f3a"
            ],
            [
             0.8888888888888888,
             "#fdca26"
            ],
            [
             1,
             "#f0f921"
            ]
           ],
           "sequentialminus": [
            [
             0,
             "#0d0887"
            ],
            [
             0.1111111111111111,
             "#46039f"
            ],
            [
             0.2222222222222222,
             "#7201a8"
            ],
            [
             0.3333333333333333,
             "#9c179e"
            ],
            [
             0.4444444444444444,
             "#bd3786"
            ],
            [
             0.5555555555555556,
             "#d8576b"
            ],
            [
             0.6666666666666666,
             "#ed7953"
            ],
            [
             0.7777777777777778,
             "#fb9f3a"
            ],
            [
             0.8888888888888888,
             "#fdca26"
            ],
            [
             1,
             "#f0f921"
            ]
           ]
          },
          "colorway": [
           "#636efa",
           "#EF553B",
           "#00cc96",
           "#ab63fa",
           "#FFA15A",
           "#19d3f3",
           "#FF6692",
           "#B6E880",
           "#FF97FF",
           "#FECB52"
          ],
          "font": {
           "color": "#2a3f5f"
          },
          "geo": {
           "bgcolor": "white",
           "lakecolor": "white",
           "landcolor": "#E5ECF6",
           "showlakes": true,
           "showland": true,
           "subunitcolor": "white"
          },
          "hoverlabel": {
           "align": "left"
          },
          "hovermode": "closest",
          "mapbox": {
           "style": "light"
          },
          "paper_bgcolor": "white",
          "plot_bgcolor": "#E5ECF6",
          "polar": {
           "angularaxis": {
            "gridcolor": "white",
            "linecolor": "white",
            "ticks": ""
           },
           "bgcolor": "#E5ECF6",
           "radialaxis": {
            "gridcolor": "white",
            "linecolor": "white",
            "ticks": ""
           }
          },
          "scene": {
           "xaxis": {
            "backgroundcolor": "#E5ECF6",
            "gridcolor": "white",
            "gridwidth": 2,
            "linecolor": "white",
            "showbackground": true,
            "ticks": "",
            "zerolinecolor": "white"
           },
           "yaxis": {
            "backgroundcolor": "#E5ECF6",
            "gridcolor": "white",
            "gridwidth": 2,
            "linecolor": "white",
            "showbackground": true,
            "ticks": "",
            "zerolinecolor": "white"
           },
           "zaxis": {
            "backgroundcolor": "#E5ECF6",
            "gridcolor": "white",
            "gridwidth": 2,
            "linecolor": "white",
            "showbackground": true,
            "ticks": "",
            "zerolinecolor": "white"
           }
          },
          "shapedefaults": {
           "line": {
            "color": "#2a3f5f"
           }
          },
          "ternary": {
           "aaxis": {
            "gridcolor": "white",
            "linecolor": "white",
            "ticks": ""
           },
           "baxis": {
            "gridcolor": "white",
            "linecolor": "white",
            "ticks": ""
           },
           "bgcolor": "#E5ECF6",
           "caxis": {
            "gridcolor": "white",
            "linecolor": "white",
            "ticks": ""
           }
          },
          "title": {
           "x": 0.05
          },
          "xaxis": {
           "automargin": true,
           "gridcolor": "white",
           "linecolor": "white",
           "ticks": "",
           "title": {
            "standoff": 15
           },
           "zerolinecolor": "white",
           "zerolinewidth": 2
          },
          "yaxis": {
           "automargin": true,
           "gridcolor": "white",
           "linecolor": "white",
           "ticks": "",
           "title": {
            "standoff": 15
           },
           "zerolinecolor": "white",
           "zerolinewidth": 2
          }
         }
        },
        "title": {
         "text": "TDC Hit Counts"
        },
        "xaxis": {
         "anchor": "y",
         "domain": [
          0,
          1
         ],
         "title": {
          "text": "TDC"
         }
        },
        "yaxis": {
         "anchor": "x",
         "domain": [
          0,
          1
         ],
         "title": {
          "text": "Hits"
         }
        }
       }
      },
      "text/html": [
       "<div>                        <script type=\"text/javascript\">window.PlotlyConfig = {MathJaxConfig: 'local'};</script>\n",
       "        <script charset=\"utf-8\" src=\"https://cdn.plot.ly/plotly-2.29.1.min.js\"></script>                <div id=\"eabe3a74-410e-48e0-90b4-4764704f59f4\" class=\"plotly-graph-div\" style=\"height:100%; width:100%;\"></div>            <script type=\"text/javascript\">                                    window.PLOTLYENV=window.PLOTLYENV || {};                                    if (document.getElementById(\"eabe3a74-410e-48e0-90b4-4764704f59f4\")) {                    Plotly.newPlot(                        \"eabe3a74-410e-48e0-90b4-4764704f59f4\",                        [{\"alignmentgroup\":\"True\",\"hovertemplate\":\"TDC=%{x}\\u003cbr\\u003eHits=%{y}\\u003cextra\\u003e\\u003c\\u002fextra\\u003e\",\"legendgroup\":\"\",\"marker\":{\"color\":\"#636efa\",\"pattern\":{\"shape\":\"\"}},\"name\":\"\",\"offsetgroup\":\"\",\"orientation\":\"v\",\"showlegend\":false,\"textposition\":\"auto\",\"x\":[0,2,3,4,5,6],\"xaxis\":\"x\",\"y\":[338,49,89,39,8,1],\"yaxis\":\"y\",\"type\":\"bar\"}],                        {\"template\":{\"data\":{\"histogram2dcontour\":[{\"type\":\"histogram2dcontour\",\"colorbar\":{\"outlinewidth\":0,\"ticks\":\"\"},\"colorscale\":[[0.0,\"#0d0887\"],[0.1111111111111111,\"#46039f\"],[0.2222222222222222,\"#7201a8\"],[0.3333333333333333,\"#9c179e\"],[0.4444444444444444,\"#bd3786\"],[0.5555555555555556,\"#d8576b\"],[0.6666666666666666,\"#ed7953\"],[0.7777777777777778,\"#fb9f3a\"],[0.8888888888888888,\"#fdca26\"],[1.0,\"#f0f921\"]]}],\"choropleth\":[{\"type\":\"choropleth\",\"colorbar\":{\"outlinewidth\":0,\"ticks\":\"\"}}],\"histogram2d\":[{\"type\":\"histogram2d\",\"colorbar\":{\"outlinewidth\":0,\"ticks\":\"\"},\"colorscale\":[[0.0,\"#0d0887\"],[0.1111111111111111,\"#46039f\"],[0.2222222222222222,\"#7201a8\"],[0.3333333333333333,\"#9c179e\"],[0.4444444444444444,\"#bd3786\"],[0.5555555555555556,\"#d8576b\"],[0.6666666666666666,\"#ed7953\"],[0.7777777777777778,\"#fb9f3a\"],[0.8888888888888888,\"#fdca26\"],[1.0,\"#f0f921\"]]}],\"heatmap\":[{\"type\":\"heatmap\",\"colorbar\":{\"outlinewidth\":0,\"ticks\":\"\"},\"colorscale\":[[0.0,\"#0d0887\"],[0.1111111111111111,\"#46039f\"],[0.2222222222222222,\"#7201a8\"],[0.3333333333333333,\"#9c179e\"],[0.4444444444444444,\"#bd3786\"],[0.5555555555555556,\"#d8576b\"],[0.6666666666666666,\"#ed7953\"],[0.7777777777777778,\"#fb9f3a\"],[0.8888888888888888,\"#fdca26\"],[1.0,\"#f0f921\"]]}],\"heatmapgl\":[{\"type\":\"heatmapgl\",\"colorbar\":{\"outlinewidth\":0,\"ticks\":\"\"},\"colorscale\":[[0.0,\"#0d0887\"],[0.1111111111111111,\"#46039f\"],[0.2222222222222222,\"#7201a8\"],[0.3333333333333333,\"#9c179e\"],[0.4444444444444444,\"#bd3786\"],[0.5555555555555556,\"#d8576b\"],[0.6666666666666666,\"#ed7953\"],[0.7777777777777778,\"#fb9f3a\"],[0.8888888888888888,\"#fdca26\"],[1.0,\"#f0f921\"]]}],\"contourcarpet\":[{\"type\":\"contourcarpet\",\"colorbar\":{\"outlinewidth\":0,\"ticks\":\"\"}}],\"contour\":[{\"type\":\"contour\",\"colorbar\":{\"outlinewidth\":0,\"ticks\":\"\"},\"colorscale\":[[0.0,\"#0d0887\"],[0.1111111111111111,\"#46039f\"],[0.2222222222222222,\"#7201a8\"],[0.3333333333333333,\"#9c179e\"],[0.4444444444444444,\"#bd3786\"],[0.5555555555555556,\"#d8576b\"],[0.6666666666666666,\"#ed7953\"],[0.7777777777777778,\"#fb9f3a\"],[0.8888888888888888,\"#fdca26\"],[1.0,\"#f0f921\"]]}],\"surface\":[{\"type\":\"surface\",\"colorbar\":{\"outlinewidth\":0,\"ticks\":\"\"},\"colorscale\":[[0.0,\"#0d0887\"],[0.1111111111111111,\"#46039f\"],[0.2222222222222222,\"#7201a8\"],[0.3333333333333333,\"#9c179e\"],[0.4444444444444444,\"#bd3786\"],[0.5555555555555556,\"#d8576b\"],[0.6666666666666666,\"#ed7953\"],[0.7777777777777778,\"#fb9f3a\"],[0.8888888888888888,\"#fdca26\"],[1.0,\"#f0f921\"]]}],\"mesh3d\":[{\"type\":\"mesh3d\",\"colorbar\":{\"outlinewidth\":0,\"ticks\":\"\"}}],\"scatter\":[{\"fillpattern\":{\"fillmode\":\"overlay\",\"size\":10,\"solidity\":0.2},\"type\":\"scatter\"}],\"parcoords\":[{\"type\":\"parcoords\",\"line\":{\"colorbar\":{\"outlinewidth\":0,\"ticks\":\"\"}}}],\"scatterpolargl\":[{\"type\":\"scatterpolargl\",\"marker\":{\"colorbar\":{\"outlinewidth\":0,\"ticks\":\"\"}}}],\"bar\":[{\"error_x\":{\"color\":\"#2a3f5f\"},\"error_y\":{\"color\":\"#2a3f5f\"},\"marker\":{\"line\":{\"color\":\"#E5ECF6\",\"width\":0.5},\"pattern\":{\"fillmode\":\"overlay\",\"size\":10,\"solidity\":0.2}},\"type\":\"bar\"}],\"scattergeo\":[{\"type\":\"scattergeo\",\"marker\":{\"colorbar\":{\"outlinewidth\":0,\"ticks\":\"\"}}}],\"scatterpolar\":[{\"type\":\"scatterpolar\",\"marker\":{\"colorbar\":{\"outlinewidth\":0,\"ticks\":\"\"}}}],\"histogram\":[{\"marker\":{\"pattern\":{\"fillmode\":\"overlay\",\"size\":10,\"solidity\":0.2}},\"type\":\"histogram\"}],\"scattergl\":[{\"type\":\"scattergl\",\"marker\":{\"colorbar\":{\"outlinewidth\":0,\"ticks\":\"\"}}}],\"scatter3d\":[{\"type\":\"scatter3d\",\"line\":{\"colorbar\":{\"outlinewidth\":0,\"ticks\":\"\"}},\"marker\":{\"colorbar\":{\"outlinewidth\":0,\"ticks\":\"\"}}}],\"scattermapbox\":[{\"type\":\"scattermapbox\",\"marker\":{\"colorbar\":{\"outlinewidth\":0,\"ticks\":\"\"}}}],\"scatterternary\":[{\"type\":\"scatterternary\",\"marker\":{\"colorbar\":{\"outlinewidth\":0,\"ticks\":\"\"}}}],\"scattercarpet\":[{\"type\":\"scattercarpet\",\"marker\":{\"colorbar\":{\"outlinewidth\":0,\"ticks\":\"\"}}}],\"carpet\":[{\"aaxis\":{\"endlinecolor\":\"#2a3f5f\",\"gridcolor\":\"white\",\"linecolor\":\"white\",\"minorgridcolor\":\"white\",\"startlinecolor\":\"#2a3f5f\"},\"baxis\":{\"endlinecolor\":\"#2a3f5f\",\"gridcolor\":\"white\",\"linecolor\":\"white\",\"minorgridcolor\":\"white\",\"startlinecolor\":\"#2a3f5f\"},\"type\":\"carpet\"}],\"table\":[{\"cells\":{\"fill\":{\"color\":\"#EBF0F8\"},\"line\":{\"color\":\"white\"}},\"header\":{\"fill\":{\"color\":\"#C8D4E3\"},\"line\":{\"color\":\"white\"}},\"type\":\"table\"}],\"barpolar\":[{\"marker\":{\"line\":{\"color\":\"#E5ECF6\",\"width\":0.5},\"pattern\":{\"fillmode\":\"overlay\",\"size\":10,\"solidity\":0.2}},\"type\":\"barpolar\"}],\"pie\":[{\"automargin\":true,\"type\":\"pie\"}]},\"layout\":{\"autotypenumbers\":\"strict\",\"colorway\":[\"#636efa\",\"#EF553B\",\"#00cc96\",\"#ab63fa\",\"#FFA15A\",\"#19d3f3\",\"#FF6692\",\"#B6E880\",\"#FF97FF\",\"#FECB52\"],\"font\":{\"color\":\"#2a3f5f\"},\"hovermode\":\"closest\",\"hoverlabel\":{\"align\":\"left\"},\"paper_bgcolor\":\"white\",\"plot_bgcolor\":\"#E5ECF6\",\"polar\":{\"bgcolor\":\"#E5ECF6\",\"angularaxis\":{\"gridcolor\":\"white\",\"linecolor\":\"white\",\"ticks\":\"\"},\"radialaxis\":{\"gridcolor\":\"white\",\"linecolor\":\"white\",\"ticks\":\"\"}},\"ternary\":{\"bgcolor\":\"#E5ECF6\",\"aaxis\":{\"gridcolor\":\"white\",\"linecolor\":\"white\",\"ticks\":\"\"},\"baxis\":{\"gridcolor\":\"white\",\"linecolor\":\"white\",\"ticks\":\"\"},\"caxis\":{\"gridcolor\":\"white\",\"linecolor\":\"white\",\"ticks\":\"\"}},\"coloraxis\":{\"colorbar\":{\"outlinewidth\":0,\"ticks\":\"\"}},\"colorscale\":{\"sequential\":[[0.0,\"#0d0887\"],[0.1111111111111111,\"#46039f\"],[0.2222222222222222,\"#7201a8\"],[0.3333333333333333,\"#9c179e\"],[0.4444444444444444,\"#bd3786\"],[0.5555555555555556,\"#d8576b\"],[0.6666666666666666,\"#ed7953\"],[0.7777777777777778,\"#fb9f3a\"],[0.8888888888888888,\"#fdca26\"],[1.0,\"#f0f921\"]],\"sequentialminus\":[[0.0,\"#0d0887\"],[0.1111111111111111,\"#46039f\"],[0.2222222222222222,\"#7201a8\"],[0.3333333333333333,\"#9c179e\"],[0.4444444444444444,\"#bd3786\"],[0.5555555555555556,\"#d8576b\"],[0.6666666666666666,\"#ed7953\"],[0.7777777777777778,\"#fb9f3a\"],[0.8888888888888888,\"#fdca26\"],[1.0,\"#f0f921\"]],\"diverging\":[[0,\"#8e0152\"],[0.1,\"#c51b7d\"],[0.2,\"#de77ae\"],[0.3,\"#f1b6da\"],[0.4,\"#fde0ef\"],[0.5,\"#f7f7f7\"],[0.6,\"#e6f5d0\"],[0.7,\"#b8e186\"],[0.8,\"#7fbc41\"],[0.9,\"#4d9221\"],[1,\"#276419\"]]},\"xaxis\":{\"gridcolor\":\"white\",\"linecolor\":\"white\",\"ticks\":\"\",\"title\":{\"standoff\":15},\"zerolinecolor\":\"white\",\"automargin\":true,\"zerolinewidth\":2},\"yaxis\":{\"gridcolor\":\"white\",\"linecolor\":\"white\",\"ticks\":\"\",\"title\":{\"standoff\":15},\"zerolinecolor\":\"white\",\"automargin\":true,\"zerolinewidth\":2},\"scene\":{\"xaxis\":{\"backgroundcolor\":\"#E5ECF6\",\"gridcolor\":\"white\",\"linecolor\":\"white\",\"showbackground\":true,\"ticks\":\"\",\"zerolinecolor\":\"white\",\"gridwidth\":2},\"yaxis\":{\"backgroundcolor\":\"#E5ECF6\",\"gridcolor\":\"white\",\"linecolor\":\"white\",\"showbackground\":true,\"ticks\":\"\",\"zerolinecolor\":\"white\",\"gridwidth\":2},\"zaxis\":{\"backgroundcolor\":\"#E5ECF6\",\"gridcolor\":\"white\",\"linecolor\":\"white\",\"showbackground\":true,\"ticks\":\"\",\"zerolinecolor\":\"white\",\"gridwidth\":2}},\"shapedefaults\":{\"line\":{\"color\":\"#2a3f5f\"}},\"annotationdefaults\":{\"arrowcolor\":\"#2a3f5f\",\"arrowhead\":0,\"arrowwidth\":1},\"geo\":{\"bgcolor\":\"white\",\"landcolor\":\"#E5ECF6\",\"subunitcolor\":\"white\",\"showland\":true,\"showlakes\":true,\"lakecolor\":\"white\"},\"title\":{\"x\":0.05},\"mapbox\":{\"style\":\"light\"}}},\"xaxis\":{\"anchor\":\"y\",\"domain\":[0.0,1.0],\"title\":{\"text\":\"TDC\"}},\"yaxis\":{\"anchor\":\"x\",\"domain\":[0.0,1.0],\"title\":{\"text\":\"Hits\"}},\"legend\":{\"tracegroupgap\":0},\"title\":{\"text\":\"TDC Hit Counts\"},\"barmode\":\"relative\"},                        {\"responsive\": true}                    )                };                            </script>        </div>"
      ],
      "text/plain": [
       "Figure({\n",
       "    'data': [{'alignmentgroup': 'True',\n",
       "              'hovertemplate': 'TDC=%{x}<br>Hits=%{y}<extra></extra>',\n",
       "              'legendgroup': '',\n",
       "              'marker': {'color': '#636efa', 'pattern': {'shape': ''}},\n",
       "              'name': '',\n",
       "              'offsetgroup': '',\n",
       "              'orientation': 'v',\n",
       "              'showlegend': False,\n",
       "              'textposition': 'auto',\n",
       "              'type': 'bar',\n",
       "              'x': array([0, 2, 3, 4, 5, 6]),\n",
       "              'xaxis': 'x',\n",
       "              'y': array([338,  49,  89,  39,   8,   1]),\n",
       "              'yaxis': 'y'}],\n",
       "    'layout': {'barmode': 'relative',\n",
       "               'legend': {'tracegroupgap': 0},\n",
       "               'template': '...',\n",
       "               'title': {'text': 'TDC Hit Counts'},\n",
       "               'xaxis': {'anchor': 'y', 'domain': [0.0, 1.0], 'title': {'text': 'TDC'}},\n",
       "               'yaxis': {'anchor': 'x', 'domain': [0.0, 1.0], 'title': {'text': 'Hits'}}}\n",
       "})"
      ]
     },
     "execution_count": 265,
     "metadata": {},
     "output_type": "execute_result"
    }
   ],
   "source": [
    "# plotly bar plot\n",
    "px.bar(x=tdc_counts[0], y=tdc_counts[1], labels={\"x\": \"TDC\", \"y\": \"Hits\"}, title=\"TDC Hit Counts\")"
   ]
  },
  {
   "cell_type": "code",
   "execution_count": 242,
   "metadata": {},
   "outputs": [],
   "source": [
    "def vis_full_shift_register(run, df, save_path=None, show=True):\n",
    "    try:\n",
    "        row = df.iloc[run]\n",
    "        \n",
    "        with open(f\"data/runs/{run}/shift.txt\", \"r\") as f:\n",
    "            data = np.stack([np.fromiter(line.strip(), dtype=np.int64) for line in f])\n",
    "        data = data.T.reshape(6, -1)\n",
    "\n",
    "        fig, ax = plt.subplots(2, 3, figsize=(14, 10))\n",
    "        # add some quick information to plot title\n",
    "        fig.suptitle(f\"Run {run} - Part {row['part']} - ION {row['ion']} - Fluence {row['flux']:.2e} - Shifted {row['config_1']} - Total SEUs {int(row['transients'])}\", fontsize=20)\n",
    "        ax = ax.flatten()\n",
    "        for p in range(6):\n",
    "            im_data = data[p]\n",
    "            if row[\"upset_type\"] == \"seu\":\n",
    "                if row[\"config_0\"] == \"h\":\n",
    "                    if row[\"config_1\"] == \"1\":\n",
    "                        im_data = np.logical_not(im_data)\n",
    "                    elif row[\"config_1\"] == \"0\":\n",
    "                        pass\n",
    "                    elif row[\"config_1\"] == \"01\":\n",
    "                        mask = np.array([0, 1]*(SHIFT_REGISTER_SIZE//len([0, 1])))\n",
    "                        im_data = np.logical_xor(im_data, mask)\n",
    "            ax[p].imshow(\n",
    "                im_data.reshape(-1, 128), aspect=\"auto\", vmin=0, vmax=1, interpolation=\"none\"\n",
    "            )\n",
    "            ax[p].set_yticks([])\n",
    "            ax[p].set_xticks([])\n",
    "            ax[p].set_ylabel(f\"SR{p}\", rotation=90, position=(1, 0.5), ha='right', va='bottom', fontsize=20)\n",
    "\n",
    "            upset_count = row[f\"SR{p}\"]\n",
    "            txt = ax[p].text(1, 1, f\"Upsets: {upset_count}\", ha='right', va='top', transform=ax[p].transAxes, fontsize=20, color=\"white\")\n",
    "            txt.set_path_effects([PathEffects.withStroke(linewidth=4, foreground='black')])\n",
    "\n",
    "        fig.tight_layout()\n",
    "\n",
    "        if save_path:\n",
    "            fig.savefig(save_path, dpi=300, bbox_inches=\"tight\")\n",
    "        \n",
    "        if show:\n",
    "            fig.show()\n",
    "    except Exception as e:\n",
    "        print(e)\n",
    "\n",
    "def vis_single_shift_register(run, sr, df):\n",
    "    try:\n",
    "        row = df.iloc[run]\n",
    "        upset_count = row[f\"SR{sr}\"]\n",
    "\n",
    "\n",
    "        with open(f\"data/runs/{run}/shift.txt\", \"r\") as f:\n",
    "            data = np.stack([np.fromiter(line.strip(), dtype=np.int64) for line in f])\n",
    "        data = data.T.reshape(6, -1, 128)\n",
    "\n",
    "        fig, ax = plt.subplots(1, 1, figsize=(5, 5))\n",
    "\n",
    "        # instead of showing raw data, we only want to see where the bits are upset\n",
    "        # for a test type of h 0, this means anywhere a 1 is present\n",
    "        if row[\"upset_type\"] == \"seu\":\n",
    "            if row[\"config_0\"] == \"h\":\n",
    "                if row[\"config_1\"] == \"1\":\n",
    "                    ax.imshow(\n",
    "                        data[sr].logical_not(), aspect='equal', vmin=0, vmax=1, interpolation=\"none\"\n",
    "                    )\n",
    "                elif row[\"config\"] == \"0\":\n",
    "                    ax.imshow(\n",
    "                        data[sr], aspect='equal', vmin=0, vmax=1, interpolation=\"none\"\n",
    "                    )\n",
    "                elif row[\"config\"] == \"01\":\n",
    "                    mask = np.array([0, 1]*(SHIFT_REGISTER_SIZE//len([0, 1])))\n",
    "                    masked_data = np.logical_xor(data[sr], mask)\n",
    "                    ax.imshow(\n",
    "                        masked_data, aspect='equal', vmin=0, vmax=1, interpolation=\"none\"\n",
    "                    )\n",
    "        ax.set_yticks([])\n",
    "        ax.set_xticks([])\n",
    "        ax.set_ylabel(f\"SR{sr}\", rotation=90, position=(1, 0.5), ha='right', va='bottom', fontsize=20)\n",
    "\n",
    "        row = df.iloc[run]\n",
    "        upset_count = row[f\"SR{sr}\"]\n",
    "        txt = ax.text(1, 1, f\"Upsets: {upset_count}\", ha='right', va='top', transform=ax.transAxes, fontsize=20, color=\"white\")\n",
    "        txt.set_path_effects([PathEffects.withStroke(linewidth=4, foreground='black')])\n",
    "\n",
    "        fig.tight_layout()\n",
    "        fig.show()\n",
    "    except Exception as e:\n",
    "        print(e)"
   ]
  },
  {
   "cell_type": "code",
   "execution_count": null,
   "metadata": {},
   "outputs": [],
   "source": [
    "# loop through all SEU runs\n",
    "for i in range(df.shape[0]):\n",
    "    row = df.iloc[i]\n",
    "    if row[\"upset_type\"] == \"seu\":\n",
    "        vis_full_shift_register(i, df, f\"data/figs/shift_registers/{i}.png\")"
   ]
  },
  {
   "cell_type": "code",
   "execution_count": 67,
   "metadata": {},
   "outputs": [
    {
     "data": {
      "image/png": "[encoded data removed]",
      "text/plain": [
       "<Figure size 500x300 with 6 Axes>"
      ]
     },
     "metadata": {},
     "output_type": "display_data"
    }
   ],
   "source": [
    "with open(f\"data/runs/11/shift.txt\", \"r\") as f:\n",
    "    data = np.stack([np.fromiter(line.strip(), dtype=np.int64) for line in f])\n",
    "data = data.T.reshape(6, -1, 128)\n",
    "\n",
    "fig, ax = plt.subplots(6, 1, figsize=(5, 3))\n",
    "for p in range(6):\n",
    "    # ax[p].set_title(f\"Shift Register {p}\", loc=\"right\")\n",
    "    # ax[p].set_title(f\"{p}\", rotation=-90, position=(1.01, 0.5), ha='center', va='center')\n",
    "    ax[p].imshow(\n",
    "        data[p], aspect=\"auto\", vmin=0, vmax=1, interpolation=\"none\"\n",
    "    )\n",
    "    ax[p].set_yticks([])\n",
    "    ax[p].set_xticks([])\n",
    "    ax[p].set_ylabel(f\"SR{p}\", rotation=0, position=(1.01, 0.5), ha='right', va='center')\n",
    "\n",
    "# fig.tight_layout()\n",
    "plt.show()"
   ]
  },
  {
   "cell_type": "code",
   "execution_count": 7,
   "metadata": {},
   "outputs": [],
   "source": [
    "import pyvisa\n",
    "rm = pyvisa.ResourceManager()\n",
    "power_supply = rm.open_resource('TCPIP0::192.168.4.3::INSTR')"
   ]
  },
  {
   "cell_type": "code",
   "execution_count": 1,
   "metadata": {},
   "outputs": [
    {
     "ename": "",
     "evalue": "",
     "output_type": "error",
     "traceback": [
      "\u001b[1;31mThe Kernel crashed while executing code in the current cell or a previous cell. \n",
      "\u001b[1;31mPlease review the code in the cell(s) to identify a possible cause of the failure. \n",
      "\u001b[1;31mClick <a href='https://aka.ms/vscodeJupyterKernelCrash'>here</a> for more info. \n",
      "\u001b[1;31mView Jupyter <a href='command:jupyter.viewOutput'>log</a> for further details."
     ]
    }
   ],
   "source": [
    "# Base64 Encoder - encodes a folder of PNG files and creates a .py file with definitions\n",
    "import PySimpleGUI as sg\n",
    "import os\n",
    "import base64\n",
    "\n",
    "'''\n",
    "    Make base64 images\n",
    "    input:  folder with .png .ico .gif 's\n",
    "    output: output.py file with variables\n",
    "    \n",
    "    Copyright 2023 PySimpleSoft, Inc. and/or its licensors. All rights reserved.\n",
    "    \n",
    "    Redistribution, modification, or any other use of PySimpleGUI or any portion thereof is subject to the terms of the PySimpleGUI License Agreement available at https://eula.pysimplegui.com.\n",
    "    \n",
    "    You may not redistribute, modify or otherwise use PySimpleGUI or its contents except pursuant to the PySimpleGUI License Agreement.\n",
    "'''\n",
    "\n",
    "def main():\n",
    "    OUTPUT_FILENAME = 'output.py'\n",
    "\n",
    "    folder = sg.popup_get_folder('Source folder for images\\nImages will be encoded and results saved to %s'%OUTPUT_FILENAME,\n",
    "                               title='Base64 Encoder')\n",
    "\n",
    "    if not folder:\n",
    "        sg.popup_cancel('Cancelled - No valid folder entered')\n",
    "        return\n",
    "    try:\n",
    "        namesonly = [f for f in os.listdir(folder) if f.endswith('.png') or f.endswith('.ico') or f.endswith('.gif')]\n",
    "    except:\n",
    "        sg.popup_cancel('Cancelled - No valid folder entered')\n",
    "        return\n",
    "\n",
    "    outfile = open(os.path.join(folder, OUTPUT_FILENAME), 'w')\n",
    "\n",
    "    for i, file in enumerate(namesonly):\n",
    "        contents = open(os.path.join(folder, file), 'rb').read()\n",
    "        encoded = base64.b64encode(contents)\n",
    "        outfile.write('\\n{} = {}'.format(file[:file.index(\".\")], encoded))\n",
    "        sg.OneLineProgressMeter('Base64 Encoding', i+1, len(namesonly), key='-METER-')\n",
    "\n",
    "    outfile.close()\n",
    "    sg.popup('Completed!', 'Encoded %s files'%(i+1))\n",
    "\n",
    "if __name__ == '__main__':\n",
    "    main()"
   ]
  },
  {
   "cell_type": "code",
   "execution_count": 76,
   "metadata": {},
   "outputs": [],
   "source": [
    "CH1 = \"P6V\"\n",
    "CH2 = \"P25V\"\n",
    "CH3 = \"N25V\"\n",
    "\n",
    "def channel_state(channel, state):\n",
    "    power_supply.write(f\"INST {channel}\")\n",
    "    power_supply.write(f\"OUTP {state}\")\n",
    "\n",
    "def set_voltage(channel, voltage):\n",
    "    power_supply.write(f\"INST {channel}\")\n",
    "    power_supply.write(f\"VOLT {voltage}\")\n",
    "\n",
    "def set_current(channel, current):\n",
    "    power_supply.write(f\"INST {channel}\")\n",
    "    power_supply.write(f\"CURR {current}\")\n",
    "\n",
    "def get_voltage(channel):\n",
    "    return power_supply.query(f\"MEAS:VOLT? {channel}\")\n",
    "\n",
    "def get_current(channel):\n",
    "    power_supply.write(f\"INST {channel}\")\n",
    "    return power_supply.query(\"MEAS:CURR?\")"
   ]
  },
  {
   "cell_type": "code",
   "execution_count": 83,
   "metadata": {},
   "outputs": [
    {
     "data": {
      "text/plain": [
       "15"
      ]
     },
     "execution_count": 83,
     "metadata": {},
     "output_type": "execute_result"
    }
   ],
   "source": [
    "# one line to set CH1 to 2V\n",
    "power_supply.write(\"VOLT \")"
   ]
  },
  {
   "cell_type": "code",
   "execution_count": 2,
   "metadata": {},
   "outputs": [
    {
     "ename": "NameError",
     "evalue": "name 'power_supply' is not defined",
     "output_type": "error",
     "traceback": [
      "\u001b[0;31m---------------------------------------------------------------------------\u001b[0m",
      "\u001b[0;31mNameError\u001b[0m                                 Traceback (most recent call last)",
      "Cell \u001b[0;32mIn[2], line 1\u001b[0m\n\u001b[0;32m----> 1\u001b[0m \u001b[43mpower_supply\u001b[49m\u001b[38;5;241m.\u001b[39mclose()\n",
      "\u001b[0;31mNameError\u001b[0m: name 'power_supply' is not defined"
     ]
    }
   ],
   "source": [
    "power_supply.close()"
   ]
  },
  {
   "cell_type": "code",
   "execution_count": 74,
   "metadata": {},
   "outputs": [],
   "source": [
    "channel_state(\"CH1\", \"ON\")"
   ]
  },
  {
   "cell_type": "code",
   "execution_count": 80,
   "metadata": {},
   "outputs": [
    {
     "ename": "VisaIOError",
     "evalue": "VI_ERROR_IO (-1073807298): Could not perform operation because of I/O error.",
     "output_type": "error",
     "traceback": [
      "\u001b[0;31m---------------------------------------------------------------------------\u001b[0m",
      "\u001b[0;31mVisaIOError\u001b[0m                               Traceback (most recent call last)",
      "Cell \u001b[0;32mIn[80], line 1\u001b[0m\n\u001b[0;32m----> 1\u001b[0m \u001b[43mget_voltage\u001b[49m\u001b[43m(\u001b[49m\u001b[38;5;124;43m\"\u001b[39;49m\u001b[38;5;124;43mCH1\u001b[39;49m\u001b[38;5;124;43m\"\u001b[39;49m\u001b[43m)\u001b[49m\n",
      "Cell \u001b[0;32mIn[76], line 18\u001b[0m, in \u001b[0;36mget_voltage\u001b[0;34m(channel)\u001b[0m\n\u001b[1;32m     17\u001b[0m \u001b[38;5;28;01mdef\u001b[39;00m \u001b[38;5;21mget_voltage\u001b[39m(channel):\n\u001b[0;32m---> 18\u001b[0m     \u001b[38;5;28;01mreturn\u001b[39;00m \u001b[43mpower_supply\u001b[49m\u001b[38;5;241;43m.\u001b[39;49m\u001b[43mquery\u001b[49m\u001b[43m(\u001b[49m\u001b[38;5;124;43m\"\u001b[39;49m\u001b[38;5;124;43mMEAS:VOLT? (\u001b[39;49m\u001b[38;5;132;43;01m{channel}\u001b[39;49;00m\u001b[38;5;124;43m)\u001b[39;49m\u001b[38;5;124;43m\"\u001b[39;49m\u001b[43m)\u001b[49m\n",
      "File \u001b[0;32m~/miniconda3/envs/lbnl24/lib/python3.10/site-packages/pyvisa/resources/messagebased.py:647\u001b[0m, in \u001b[0;36mMessageBasedResource.query\u001b[0;34m(self, message, delay)\u001b[0m\n\u001b[1;32m    644\u001b[0m \u001b[38;5;28;01mif\u001b[39;00m delay \u001b[38;5;241m>\u001b[39m \u001b[38;5;241m0.0\u001b[39m:\n\u001b[1;32m    645\u001b[0m     time\u001b[38;5;241m.\u001b[39msleep(delay)\n\u001b[0;32m--> 647\u001b[0m \u001b[38;5;28;01mreturn\u001b[39;00m \u001b[38;5;28;43mself\u001b[39;49m\u001b[38;5;241;43m.\u001b[39;49m\u001b[43mread\u001b[49m\u001b[43m(\u001b[49m\u001b[43m)\u001b[49m\n",
      "File \u001b[0;32m~/miniconda3/envs/lbnl24/lib/python3.10/site-packages/pyvisa/resources/messagebased.py:485\u001b[0m, in \u001b[0;36mMessageBasedResource.read\u001b[0;34m(self, termination, encoding)\u001b[0m\n\u001b[1;32m    483\u001b[0m \u001b[38;5;28;01mif\u001b[39;00m termination \u001b[38;5;129;01mis\u001b[39;00m \u001b[38;5;28;01mNone\u001b[39;00m:\n\u001b[1;32m    484\u001b[0m     termination \u001b[38;5;241m=\u001b[39m \u001b[38;5;28mself\u001b[39m\u001b[38;5;241m.\u001b[39m_read_termination\n\u001b[0;32m--> 485\u001b[0m     message \u001b[38;5;241m=\u001b[39m \u001b[38;5;28;43mself\u001b[39;49m\u001b[38;5;241;43m.\u001b[39;49m\u001b[43m_read_raw\u001b[49m\u001b[43m(\u001b[49m\u001b[43m)\u001b[49m\u001b[38;5;241m.\u001b[39mdecode(enco)\n\u001b[1;32m    486\u001b[0m \u001b[38;5;28;01melse\u001b[39;00m:\n\u001b[1;32m    487\u001b[0m     \u001b[38;5;28;01mwith\u001b[39;00m \u001b[38;5;28mself\u001b[39m\u001b[38;5;241m.\u001b[39mread_termination_context(termination):\n",
      "File \u001b[0;32m~/miniconda3/envs/lbnl24/lib/python3.10/site-packages/pyvisa/resources/messagebased.py:441\u001b[0m, in \u001b[0;36mMessageBasedResource._read_raw\u001b[0;34m(self, size)\u001b[0m\n\u001b[1;32m    434\u001b[0m     \u001b[38;5;28;01mwhile\u001b[39;00m status \u001b[38;5;241m==\u001b[39m loop_status:\n\u001b[1;32m    435\u001b[0m         logger\u001b[38;5;241m.\u001b[39mdebug(\n\u001b[1;32m    436\u001b[0m             \u001b[38;5;124m\"\u001b[39m\u001b[38;5;132;01m%s\u001b[39;00m\u001b[38;5;124m - reading \u001b[39m\u001b[38;5;132;01m%d\u001b[39;00m\u001b[38;5;124m bytes (last status \u001b[39m\u001b[38;5;132;01m%r\u001b[39;00m\u001b[38;5;124m)\u001b[39m\u001b[38;5;124m\"\u001b[39m,\n\u001b[1;32m    437\u001b[0m             \u001b[38;5;28mself\u001b[39m\u001b[38;5;241m.\u001b[39m_resource_name,\n\u001b[1;32m    438\u001b[0m             size,\n\u001b[1;32m    439\u001b[0m             status,\n\u001b[1;32m    440\u001b[0m         )\n\u001b[0;32m--> 441\u001b[0m         chunk, status \u001b[38;5;241m=\u001b[39m \u001b[38;5;28;43mself\u001b[39;49m\u001b[38;5;241;43m.\u001b[39;49m\u001b[43mvisalib\u001b[49m\u001b[38;5;241;43m.\u001b[39;49m\u001b[43mread\u001b[49m\u001b[43m(\u001b[49m\u001b[38;5;28;43mself\u001b[39;49m\u001b[38;5;241;43m.\u001b[39;49m\u001b[43msession\u001b[49m\u001b[43m,\u001b[49m\u001b[43m \u001b[49m\u001b[43msize\u001b[49m\u001b[43m)\u001b[49m\n\u001b[1;32m    442\u001b[0m         ret\u001b[38;5;241m.\u001b[39mextend(chunk)\n\u001b[1;32m    443\u001b[0m \u001b[38;5;28;01mexcept\u001b[39;00m errors\u001b[38;5;241m.\u001b[39mVisaIOError \u001b[38;5;28;01mas\u001b[39;00m e:\n",
      "File \u001b[0;32m~/miniconda3/envs/lbnl24/lib/python3.10/site-packages/pyvisa_py/highlevel.py:519\u001b[0m, in \u001b[0;36mPyVisaLibrary.read\u001b[0;34m(self, session, count)\u001b[0m\n\u001b[1;32m    513\u001b[0m \u001b[38;5;28;01mexcept\u001b[39;00m \u001b[38;5;167;01mKeyError\u001b[39;00m:\n\u001b[1;32m    514\u001b[0m     \u001b[38;5;28;01mreturn\u001b[39;00m (\n\u001b[1;32m    515\u001b[0m         \u001b[38;5;124mb\u001b[39m\u001b[38;5;124m\"\u001b[39m\u001b[38;5;124m\"\u001b[39m,\n\u001b[1;32m    516\u001b[0m         \u001b[38;5;28mself\u001b[39m\u001b[38;5;241m.\u001b[39mhandle_return_value(session, StatusCode\u001b[38;5;241m.\u001b[39merror_invalid_object),\n\u001b[1;32m    517\u001b[0m     )\n\u001b[0;32m--> 519\u001b[0m \u001b[38;5;28;01mreturn\u001b[39;00m data, \u001b[38;5;28;43mself\u001b[39;49m\u001b[38;5;241;43m.\u001b[39;49m\u001b[43mhandle_return_value\u001b[49m\u001b[43m(\u001b[49m\u001b[43msession\u001b[49m\u001b[43m,\u001b[49m\u001b[43m \u001b[49m\u001b[43mstatus_code\u001b[49m\u001b[43m)\u001b[49m\n",
      "File \u001b[0;32m~/miniconda3/envs/lbnl24/lib/python3.10/site-packages/pyvisa/highlevel.py:251\u001b[0m, in \u001b[0;36mVisaLibraryBase.handle_return_value\u001b[0;34m(self, session, status_code)\u001b[0m\n\u001b[1;32m    248\u001b[0m     \u001b[38;5;28mself\u001b[39m\u001b[38;5;241m.\u001b[39m_last_status_in_session[session] \u001b[38;5;241m=\u001b[39m rv\n\u001b[1;32m    250\u001b[0m \u001b[38;5;28;01mif\u001b[39;00m rv \u001b[38;5;241m<\u001b[39m \u001b[38;5;241m0\u001b[39m:\n\u001b[0;32m--> 251\u001b[0m     \u001b[38;5;28;01mraise\u001b[39;00m errors\u001b[38;5;241m.\u001b[39mVisaIOError(rv)\n\u001b[1;32m    253\u001b[0m \u001b[38;5;28;01mif\u001b[39;00m rv \u001b[38;5;129;01min\u001b[39;00m \u001b[38;5;28mself\u001b[39m\u001b[38;5;241m.\u001b[39missue_warning_on:\n\u001b[1;32m    254\u001b[0m     \u001b[38;5;28;01mif\u001b[39;00m session \u001b[38;5;129;01mand\u001b[39;00m rv \u001b[38;5;129;01mnot\u001b[39;00m \u001b[38;5;129;01min\u001b[39;00m \u001b[38;5;28mself\u001b[39m\u001b[38;5;241m.\u001b[39m_ignore_warning_in_session[session]:\n",
      "\u001b[0;31mVisaIOError\u001b[0m: VI_ERROR_IO (-1073807298): Could not perform operation because of I/O error."
     ]
    }
   ],
   "source": [
    "get_voltage(\"CH1\")"
   ]
  },
  {
   "cell_type": "code",
   "execution_count": 9,
   "metadata": {},
   "outputs": [
    {
     "data": {
      "text/plain": [
       "23"
      ]
     },
     "execution_count": 9,
     "metadata": {},
     "output_type": "execute_result"
    }
   ],
   "source": [
    "power_supply.write(\"SYSTem:BEEPer:STATe 0\")"
   ]
  },
  {
   "cell_type": "code",
   "execution_count": 56,
   "metadata": {},
   "outputs": [],
   "source": [
    "arr = []\n",
    "for i in range(0, 100):\n",
    "    set_voltage(CH1, i)\n",
    "    arr.append(get_current(CH1))"
   ]
  },
  {
   "cell_type": "code",
   "execution_count": 54,
   "metadata": {},
   "outputs": [
    {
     "data": {
      "image/png": "[encoded data removed]",
      "text/plain": [
       "<Figure size 640x480 with 1 Axes>"
      ]
     },
     "metadata": {},
     "output_type": "display_data"
    }
   ],
   "source": [
    "plt.plot(arr)\n",
    "plt.show()"
   ]
  },
  {
   "cell_type": "code",
   "execution_count": 28,
   "metadata": {},
   "outputs": [],
   "source": [
    "channel_state(CH1, \"OFF\")"
   ]
  },
  {
   "cell_type": "code",
   "execution_count": 11,
   "metadata": {},
   "outputs": [],
   "source": [
    "import numpy as np\n",
    "from pathlib import Path\n",
    "import matplotlib.pyplot as plt\n",
    "import scipy as sp\n",
    "import time\n",
    "\n",
    "path = \"data/runs/100/shift.txt\""
   ]
  },
  {
   "cell_type": "code",
   "execution_count": null,
   "metadata": {},
   "outputs": [],
   "source": []
  },
  {
   "cell_type": "code",
   "execution_count": 20,
   "metadata": {},
   "outputs": [],
   "source": [
    "from keithley2600 import Keithley2600\n",
    "\n",
    "# k = Keithley2600('TCPIP0::192.168.2.121::INSTR')\n",
    "\n",
    "k = Keithley2600('TCPIP0::192.168.4.11::INSTR')"
   ]
  },
  {
   "cell_type": "code",
   "execution_count": 21,
   "metadata": {},
   "outputs": [
    {
     "data": {
      "text/plain": [
       "True"
      ]
     },
     "execution_count": 21,
     "metadata": {},
     "output_type": "execute_result"
    }
   ],
   "source": [
    "k.connect()"
   ]
  },
  {
   "cell_type": "code",
   "execution_count": 23,
   "metadata": {},
   "outputs": [],
   "source": [
    "k.smua.source.output = k.smua.OUTPUT_ON\n",
    "time.sleep(.25)\n",
    "k.smua.source.levelv = 3.3\n",
    "time.sleep(.25)\n",
    "k.smub.source.output = k.smua.OUTPUT_ON\n",
    "time.sleep(.25)\n",
    "k.smub.source.levelv = 1.2\n",
    "time.sleep(.25)\n"
   ]
  },
  {
   "cell_type": "code",
   "execution_count": 18,
   "metadata": {},
   "outputs": [],
   "source": [
    "k.smua.source.output = k.smua.OUTPUT_OFF\n",
    "time.sleep_ms(500)\n",
    "k.smub.source.output = k.smua.OUTPUT_OFF\n",
    "time.sleep_ms(500)"
   ]
  },
  {
   "cell_type": "code",
   "execution_count": 24,
   "metadata": {},
   "outputs": [],
   "source": [
    "k.disconnect()"
   ]
  },
  {
   "cell_type": "code",
   "execution_count": 16,
   "metadata": {},
   "outputs": [
    {
     "ename": "TypeError",
     "evalue": "cannot unpack non-iterable int object",
     "output_type": "error",
     "traceback": [
      "\u001b[0;31m---------------------------------------------------------------------------\u001b[0m",
      "\u001b[0;31mTypeError\u001b[0m                                 Traceback (most recent call last)",
      "Cell \u001b[0;32mIn[16], line 3\u001b[0m\n\u001b[1;32m      1\u001b[0m k\u001b[38;5;241m.\u001b[39msmua\u001b[38;5;241m.\u001b[39msource\u001b[38;5;241m.\u001b[39moutput \u001b[38;5;241m=\u001b[39m k\u001b[38;5;241m.\u001b[39msmua\u001b[38;5;241m.\u001b[39mOUTPUT_ON\n\u001b[1;32m      2\u001b[0m k\u001b[38;5;241m.\u001b[39msmua\u001b[38;5;241m.\u001b[39msource\u001b[38;5;241m.\u001b[39mlevelv \u001b[38;5;241m=\u001b[39m \u001b[38;5;241m3.3\u001b[39m\n\u001b[0;32m----> 3\u001b[0m \u001b[43mk\u001b[49m\u001b[38;5;241;43m.\u001b[39;49m\u001b[43msmub\u001b[49m\u001b[38;5;241;43m.\u001b[39;49m\u001b[43msource\u001b[49m\u001b[38;5;241m.\u001b[39moutput \u001b[38;5;241m=\u001b[39m k\u001b[38;5;241m.\u001b[39msmua\u001b[38;5;241m.\u001b[39mOUTPUT_ON\n\u001b[1;32m      4\u001b[0m k\u001b[38;5;241m.\u001b[39msmub\u001b[38;5;241m.\u001b[39msource\u001b[38;5;241m.\u001b[39mlevelv \u001b[38;5;241m=\u001b[39m \u001b[38;5;241m1.2\u001b[39m\n\u001b[1;32m      5\u001b[0m \u001b[38;5;66;03m# k.smua.source.output = k.smua.OUTPUT_OFF\u001b[39;00m\n\u001b[1;32m      6\u001b[0m \u001b[38;5;66;03m# k.smub.source.output = k.smub.OUTPUT_OFF\u001b[39;00m\n",
      "File \u001b[0;32m~/miniconda3/envs/lbnl24/lib/python3.10/site-packages/keithley2600/keithley_driver.py:252\u001b[0m, in \u001b[0;36mKeithleyClass.__getattr__\u001b[0;34m(self, attr_name)\u001b[0m\n\u001b[1;32m    248\u001b[0m \u001b[38;5;28;01mdef\u001b[39;00m \u001b[38;5;21m__getattr__\u001b[39m(\u001b[38;5;28mself\u001b[39m, attr_name: \u001b[38;5;28mstr\u001b[39m) \u001b[38;5;241m-\u001b[39m\u001b[38;5;241m>\u001b[39m Any:\n\u001b[1;32m    250\u001b[0m     \u001b[38;5;28;01mif\u001b[39;00m \u001b[38;5;129;01mnot\u001b[39;00m \u001b[38;5;28mself\u001b[39m\u001b[38;5;241m.\u001b[39m_dict:\n\u001b[1;32m    251\u001b[0m         \u001b[38;5;66;03m# will raise KeithleyIOError if not connected\u001b[39;00m\n\u001b[0;32m--> 252\u001b[0m         \u001b[38;5;28;43mself\u001b[39;49m\u001b[38;5;241;43m.\u001b[39;49m\u001b[43m_load_lua_namespace\u001b[49m\u001b[43m(\u001b[49m\u001b[43m)\u001b[49m\n\u001b[1;32m    254\u001b[0m     \u001b[38;5;28;01mtry\u001b[39;00m:\n\u001b[1;32m    255\u001b[0m         accessor \u001b[38;5;241m=\u001b[39m \u001b[38;5;28mself\u001b[39m\u001b[38;5;241m.\u001b[39m_dict[attr_name]\n",
      "File \u001b[0;32m~/miniconda3/envs/lbnl24/lib/python3.10/site-packages/keithley2600/keithley_driver.py:318\u001b[0m, in \u001b[0;36mKeithleyClass._load_lua_namespace\u001b[0;34m(self)\u001b[0m\n\u001b[1;32m    315\u001b[0m res \u001b[38;5;241m=\u001b[39m \u001b[38;5;28mself\u001b[39m\u001b[38;5;241m.\u001b[39m_query(\u001b[38;5;124mf\u001b[39m\u001b[38;5;124m\"\u001b[39m\u001b[38;5;124mnext(\u001b[39m\u001b[38;5;132;01m{\u001b[39;00m\u001b[38;5;28mself\u001b[39m\u001b[38;5;241m.\u001b[39m_name\u001b[38;5;132;01m}\u001b[39;00m\u001b[38;5;124m, \u001b[39m\u001b[38;5;132;01m{\u001b[39;00mvar_name\u001b[38;5;132;01m!r}\u001b[39;00m\u001b[38;5;124m)\u001b[39m\u001b[38;5;124m\"\u001b[39m)\n\u001b[1;32m    317\u001b[0m \u001b[38;5;28;01mif\u001b[39;00m res:\n\u001b[0;32m--> 318\u001b[0m     var_name, var_value \u001b[38;5;241m=\u001b[39m res\n\u001b[1;32m    319\u001b[0m     full_name \u001b[38;5;241m=\u001b[39m \u001b[38;5;28mself\u001b[39m\u001b[38;5;241m.\u001b[39m_to_global_name(var_name)\n\u001b[1;32m    321\u001b[0m     \u001b[38;5;28;01mif\u001b[39;00m \u001b[38;5;28misinstance\u001b[39m(var_value, _LuaFunction):\n",
      "\u001b[0;31mTypeError\u001b[0m: cannot unpack non-iterable int object"
     ]
    }
   ],
   "source": [
    "k.smua.source.output = k.smua.OUTPUT_ON\n",
    "k.smua.source.levelv = 3.3\n",
    "k.smub.source.output = k.smua.OUTPUT_ON\n",
    "k.smub.source.levelv = 1.2\n",
    "# k.smua.source.output = k.smua.OUTPUT_OFF\n",
    "# k.smub.source.output = k.smub.OUTPUT_OFF"
   ]
  },
  {
   "cell_type": "code",
   "execution_count": 3,
   "metadata": {},
   "outputs": [],
   "source": [
    "k.smua.source.output = k.smua.OUTPUT_ON   # turn on SMUA\n",
    "k.smua.source.levelv = -2  # sets SMUA source level to -40V\n",
    "v = k.smua.measure.v()  # measures and returns the SMUA voltage\n",
    "i = k.smua.measure.i()  # measures current at smuA\n",
    "\n",
    "k.smua.measure.v(k.smua.nvbuffer1)  # measures the voltage, stores the result in buffer\n",
    "k.smua.nvbuffer1.clear()  # clears nvbuffer1 of SMUA\n",
    "\n",
    "# turn off\n",
    "k.smua.source.output = k.smua.OUTPUT_OFF"
   ]
  },
  {
   "cell_type": "code",
   "execution_count": 4,
   "metadata": {},
   "outputs": [],
   "source": [
    "k.disconnect()"
   ]
  },
  {
   "cell_type": "code",
   "execution_count": 23,
   "metadata": {},
   "outputs": [],
   "source": [
    "# file looks like 0000 where each 0 or 1 is a bit\n",
    "with open(\"/Users/trevorpeyton/code/lbnl_2024/data/runs/3/2.txt\", \"r\") as f:\n",
    "    data = np.stack([np.fromiter(line.strip(), dtype=np.int64) for line in f])\n"
   ]
  },
  {
   "cell_type": "code",
   "execution_count": 29,
   "metadata": {},
   "outputs": [],
   "source": [
    "run = 10\n",
    "data_list = []\n",
    "\n",
    "for f in Path(f\"data/runs/{run}\").iterdir():\n",
    "    if f.is_file() and f.suffix == '.txt' and not f.name == \"log.txt\":\n",
    "        data_list.append([])\n",
    "        with open(f, \"r\") as file:\n",
    "            for line in file:\n",
    "                data_list[-1].append(np.fromiter(line.strip(), dtype=np.int64))\n",
    "stacked_data = np.stack(data_list)"
   ]
  },
  {
   "cell_type": "code",
   "execution_count": 51,
   "metadata": {},
   "outputs": [
    {
     "data": {
      "image/png": "[encoded data removed]",
      "text/plain": [
       "<Figure size 640x480 with 1 Axes>"
      ]
     },
     "metadata": {},
     "output_type": "display_data"
    }
   ],
   "source": [
    "# box plot for last dimension\n",
    "# split on first dimension\n",
    "plt.title(\"TDC Transients Per Run\")\n",
    "plt.xlabel(\"TDC\")\n",
    "plt.ylabel(\"Transients\")\n",
    "plt.boxplot(stacked_data.sum(axis=1), labels=[f\"{i}\" for i in range(4)])\n",
    "plt.show()"
   ]
  },
  {
   "cell_type": "code",
   "execution_count": 47,
   "metadata": {},
   "outputs": [
    {
     "data": {
      "image/png": "[encoded data removed]",
      "text/plain": [
       "<Figure size 640x480 with 1 Axes>"
      ]
     },
     "metadata": {},
     "output_type": "display_data"
    }
   ],
   "source": [
    "# y axis bottom up\n",
    "transient = 0\n",
    "plt.imshow(stacked_data[transient, :].T, vmin=0, vmax=1, interpolation='none')\n",
    "plt.title(f\"Run {run} - Transient {transient}\")\n",
    "plt.ylabel(\"TDC\")\n",
    "plt.yticks(np.arange(0, 4))\n",
    "plt.xlabel(\"Bit\")\n",
    "plt.gca().invert_yaxis()\n",
    "plt.show()"
   ]
  },
  {
   "cell_type": "code",
   "execution_count": null,
   "metadata": {},
   "outputs": [],
   "source": []
  },
  {
   "cell_type": "code",
   "execution_count": null,
   "metadata": {},
   "outputs": [],
   "source": []
  },
  {
   "cell_type": "code",
   "execution_count": 11,
   "metadata": {},
   "outputs": [
    {
     "name": "stdout",
     "output_type": "stream",
     "text": [
      "[array([0]), array([0]), array([0]), array([0]), array([], dtype=int64), array([0]), array([0]), array([0]), array([0]), array([], dtype=int64), array([0]), array([0]), array([0]), array([0]), array([], dtype=int64), array([0]), array([0]), array([0]), array([0]), array([], dtype=int64), array([0]), array([0]), array([0]), array([0]), array([], dtype=int64), array([0]), array([0]), array([0]), array([0]), array([], dtype=int64), array([0]), array([0]), array([0]), array([0]), array([], dtype=int64), array([0]), array([0]), array([0]), array([0]), array([], dtype=int64), array([0]), array([0]), array([0]), array([0]), array([], dtype=int64), array([0]), array([0]), array([0]), array([0]), array([], dtype=int64), array([0]), array([0]), array([0]), array([0]), array([], dtype=int64), array([0]), array([0]), array([0]), array([0]), array([], dtype=int64), array([0]), array([0]), array([0]), array([0]), array([], dtype=int64), array([0]), array([0]), array([0]), array([0]), array([], dtype=int64), array([0]), array([0]), array([0]), array([0]), array([], dtype=int64), array([0]), array([0]), array([0]), array([0]), array([], dtype=int64), array([0]), array([0]), array([0]), array([0]), array([], dtype=int64), array([0]), array([0]), array([0]), array([0]), array([], dtype=int64), array([0]), array([0]), array([0]), array([0]), array([], dtype=int64), array([0]), array([0]), array([0]), array([0]), array([], dtype=int64), array([1]), array([0]), array([0]), array([0]), array([], dtype=int64), array([1]), array([0]), array([0]), array([0]), array([], dtype=int64), array([1]), array([0]), array([1]), array([1]), array([], dtype=int64), array([1]), array([0]), array([1]), array([1]), array([], dtype=int64), array([1]), array([1]), array([1]), array([1]), array([], dtype=int64), array([1]), array([1]), array([1]), array([1]), array([], dtype=int64), array([1]), array([1]), array([1]), array([1]), array([], dtype=int64), array([1]), array([1]), array([1]), array([1]), array([], dtype=int64), array([1]), array([1]), array([1]), array([1]), array([], dtype=int64), array([1]), array([1]), array([1]), array([1]), array([], dtype=int64), array([1]), array([1]), array([1]), array([1]), array([], dtype=int64), array([1]), array([1]), array([1]), array([1]), array([], dtype=int64)]\n"
     ]
    },
    {
     "ename": "ValueError",
     "evalue": "need at least one array to stack",
     "output_type": "error",
     "traceback": [
      "\u001b[0;31m---------------------------------------------------------------------------\u001b[0m",
      "\u001b[0;31mValueError\u001b[0m                                Traceback (most recent call last)",
      "Cell \u001b[0;32mIn[11], line 13\u001b[0m\n\u001b[1;32m     11\u001b[0m \u001b[38;5;28;01mwith\u001b[39;00m f\u001b[38;5;241m.\u001b[39mopen() \u001b[38;5;28;01mas\u001b[39;00m f:\n\u001b[1;32m     12\u001b[0m     \u001b[38;5;28mprint\u001b[39m([np\u001b[38;5;241m.\u001b[39mfromiter(line\u001b[38;5;241m.\u001b[39mstrip(), dtype\u001b[38;5;241m=\u001b[39mnp\u001b[38;5;241m.\u001b[39mint64) \u001b[38;5;28;01mfor\u001b[39;00m line \u001b[38;5;129;01min\u001b[39;00m f\u001b[38;5;241m.\u001b[39mread()])\n\u001b[0;32m---> 13\u001b[0m     data \u001b[38;5;241m=\u001b[39m \u001b[43mnp\u001b[49m\u001b[38;5;241;43m.\u001b[39;49m\u001b[43mstack\u001b[49m\u001b[43m(\u001b[49m\u001b[43m[\u001b[49m\u001b[43mnp\u001b[49m\u001b[38;5;241;43m.\u001b[39;49m\u001b[43mfromiter\u001b[49m\u001b[43m(\u001b[49m\u001b[43mline\u001b[49m\u001b[38;5;241;43m.\u001b[39;49m\u001b[43mstrip\u001b[49m\u001b[43m(\u001b[49m\u001b[43m)\u001b[49m\u001b[43m,\u001b[49m\u001b[43m \u001b[49m\u001b[43mdtype\u001b[49m\u001b[38;5;241;43m=\u001b[39;49m\u001b[43mnp\u001b[49m\u001b[38;5;241;43m.\u001b[39;49m\u001b[43mint64\u001b[49m\u001b[43m)\u001b[49m\u001b[43m \u001b[49m\u001b[38;5;28;43;01mfor\u001b[39;49;00m\u001b[43m \u001b[49m\u001b[43mline\u001b[49m\u001b[43m \u001b[49m\u001b[38;5;129;43;01min\u001b[39;49;00m\u001b[43m \u001b[49m\u001b[43mf\u001b[49m\u001b[38;5;241;43m.\u001b[39;49m\u001b[43mread\u001b[49m\u001b[43m(\u001b[49m\u001b[43m)\u001b[49m\u001b[43m]\u001b[49m\u001b[43m)\u001b[49m\n\u001b[1;32m     14\u001b[0m \u001b[38;5;28mprint\u001b[39m(data)\n\u001b[1;32m     15\u001b[0m data\u001b[38;5;241m.\u001b[39mT\u001b[38;5;241m.\u001b[39msum(axis\u001b[38;5;241m=\u001b[39m\u001b[38;5;241m1\u001b[39m)\n",
      "File \u001b[0;32m~/miniconda3/envs/lbnl24/lib/python3.10/site-packages/numpy/core/shape_base.py:445\u001b[0m, in \u001b[0;36mstack\u001b[0;34m(arrays, axis, out, dtype, casting)\u001b[0m\n\u001b[1;32m    443\u001b[0m arrays \u001b[38;5;241m=\u001b[39m [asanyarray(arr) \u001b[38;5;28;01mfor\u001b[39;00m arr \u001b[38;5;129;01min\u001b[39;00m arrays]\n\u001b[1;32m    444\u001b[0m \u001b[38;5;28;01mif\u001b[39;00m \u001b[38;5;129;01mnot\u001b[39;00m arrays:\n\u001b[0;32m--> 445\u001b[0m     \u001b[38;5;28;01mraise\u001b[39;00m \u001b[38;5;167;01mValueError\u001b[39;00m(\u001b[38;5;124m'\u001b[39m\u001b[38;5;124mneed at least one array to stack\u001b[39m\u001b[38;5;124m'\u001b[39m)\n\u001b[1;32m    447\u001b[0m shapes \u001b[38;5;241m=\u001b[39m {arr\u001b[38;5;241m.\u001b[39mshape \u001b[38;5;28;01mfor\u001b[39;00m arr \u001b[38;5;129;01min\u001b[39;00m arrays}\n\u001b[1;32m    448\u001b[0m \u001b[38;5;28;01mif\u001b[39;00m \u001b[38;5;28mlen\u001b[39m(shapes) \u001b[38;5;241m!=\u001b[39m \u001b[38;5;241m1\u001b[39m:\n",
      "\u001b[0;31mValueError\u001b[0m: need at least one array to stack"
     ]
    }
   ],
   "source": [
    "import pathlib\n",
    "run = 3\n",
    "counts = np.zeros(4)\n",
    "for f in pathlib.Path(f\"data/runs/{run}\").iterdir():\n",
    "    if f.name == \"log.txt\":\n",
    "        continue\n",
    "    with open(\"/Users/trevorpeyton/code/lbnl_2024/data/runs/3/2.txt\", \"r\") as f:\n",
    "        data = np.stack([np.fromiter(line.strip(), dtype=np.int64) for line in f])\n",
    "    if f.is_file() and f.name != \"log.txt\":\n",
    "        counts += 1\n",
    "    # create a histogram for each\n",
    "    # data = np.stack([np.fromiter(line.strip(), dtype=np.int64) for line in f])\n",
    "    with f.open() as f:\n",
    "        print()\n",
    "        data = np.stack([np.fromiter(line.strip(), dtype=np.int64) for line in f.read()])\n",
    "    print(data)\n",
    "    data.T.sum(axis=1)\n",
    "    counts += data.T.sum(axis=1)"
   ]
  },
  {
   "cell_type": "code",
   "execution_count": 2,
   "metadata": {},
   "outputs": [],
   "source": [
    "import scipy as sp\n",
    "import numpy as np"
   ]
  },
  {
   "cell_type": "code",
   "execution_count": 117,
   "metadata": {},
   "outputs": [],
   "source": [
    "with open(\"/Users/trevorpeyton/code/lbnl_2024/data/runs/2/shift.txt\", \"r\") as f:\n",
    "    data = np.stack([np.fromiter(line.strip(), dtype=np.int64) for line in f]).T"
   ]
  },
  {
   "cell_type": "code",
   "execution_count": 118,
   "metadata": {},
   "outputs": [],
   "source": [
    "# mask = shift_data * (a.shape[1] // len(shift_data))\n",
    "mask = np.array(shift_data * (data.shape[1] // len(shift_data)))[None].repeat(\n",
    "            6, axis=0\n",
    "        )\n",
    "if mask.shape[1] < data.shape[1]:\n",
    "    masked_data = np.logical_xor(data[:, :-1], mask)\n",
    "else:\n",
    "    masked_data = np.logical_xor(data, mask)"
   ]
  },
  {
   "cell_type": "code",
   "execution_count": 81,
   "metadata": {},
   "outputs": [
    {
     "name": "stdout",
     "output_type": "stream",
     "text": [
      "[8192 8192 8192 8192 8192 8192]\n"
     ]
    }
   ],
   "source": [
    "shift_data = [0, 1]\n",
    "with open(\"/Users/trevorpeyton/code/lbnl_2024/data/runs/3/shift.txt\", \"r\") as f:\n",
    "    data = np.stack([np.fromiter(line.strip(), dtype=np.int64) for line in f]).T\n",
    "mask = np.array(shift_data*(SHIFT_REGISTER_SIZE//len(shift_data)))[None].repeat(6, axis=0)\n",
    "# XOR to check for errors\n",
    "masked_data = np.logical_xor(data, mask)\n",
    "counts = masked_data.sum(axis=1)\n",
    "print(counts)"
   ]
  },
  {
   "cell_type": "code",
   "execution_count": 58,
   "metadata": {},
   "outputs": [],
   "source": [
    "from constants import *"
   ]
  },
  {
   "cell_type": "code",
   "execution_count": 32,
   "metadata": {},
   "outputs": [
    {
     "ename": "ValueError",
     "evalue": "operands could not be broadcast together with shapes (16384,6) (98304,) ",
     "output_type": "error",
     "traceback": [
      "\u001b[0;31m---------------------------------------------------------------------------\u001b[0m",
      "\u001b[0;31mValueError\u001b[0m                                Traceback (most recent call last)",
      "Cell \u001b[0;32mIn[32], line 4\u001b[0m\n\u001b[1;32m      2\u001b[0m mask \u001b[38;5;241m=\u001b[39m np\u001b[38;5;241m.\u001b[39mrepeat(shift_data\u001b[38;5;241m*\u001b[39m(SHIFT_REGISTER_SIZE\u001b[38;5;241m/\u001b[39m\u001b[38;5;241m/\u001b[39m\u001b[38;5;28mlen\u001b[39m(shift_data)), \u001b[38;5;241m6\u001b[39m)\n\u001b[1;32m      3\u001b[0m \u001b[38;5;66;03m# AND the data with the mask\u001b[39;00m\n\u001b[0;32m----> 4\u001b[0m masked_data \u001b[38;5;241m=\u001b[39m \u001b[43mdata\u001b[49m\u001b[43m \u001b[49m\u001b[38;5;241;43m&\u001b[39;49m\u001b[43m \u001b[49m\u001b[43mmask\u001b[49m\n\u001b[1;32m      5\u001b[0m \u001b[38;5;66;03m# count sum\u001b[39;00m\n\u001b[1;32m      6\u001b[0m counts \u001b[38;5;241m=\u001b[39m masked_data\u001b[38;5;241m.\u001b[39msum(axis\u001b[38;5;241m=\u001b[39m\u001b[38;5;241m1\u001b[39m)\n",
      "\u001b[0;31mValueError\u001b[0m: operands could not be broadcast together with shapes (16384,6) (98304,) "
     ]
    }
   ],
   "source": [
    "shift_data = [0, 1]\n",
    "mask = np.repeat(shift_data*(SHIFT_REGISTER_SIZE//len(shift_data)), 6)\n",
    "# AND the data with the mask\n",
    "masked_data = data & mask\n",
    "# count sum\n",
    "counts = masked_data.sum(axis=1)"
   ]
  },
  {
   "cell_type": "code",
   "execution_count": 15,
   "metadata": {},
   "outputs": [
    {
     "data": {
      "text/plain": [
       "array([32768, 32768, 32768, 32768, 32768, 32768])"
      ]
     },
     "execution_count": 15,
     "metadata": {},
     "output_type": "execute_result"
    }
   ],
   "source": [
    "data[data == 0] = -1\n",
    "kernel = np.array([1])\n",
    "kernel[kernel == 0] = -1\n",
    "kernel = kernel.reshape(-1, 1)\n",
    "result = sp.signal.convolve2d(\n",
    "    data, kernel, mode=\"valid\"\n",
    ")\n",
    "np.repeat([16384], 6) - np.sum(result != 0, axis=0)"
   ]
  },
  {
   "cell_type": "code",
   "execution_count": 12,
   "metadata": {},
   "outputs": [
    {
     "data": {
      "text/plain": [
       "array([16383, 16383, 16383, 16383, 16383, 16383])"
      ]
     },
     "execution_count": 12,
     "metadata": {},
     "output_type": "execute_result"
    }
   ],
   "source": [
    "np.repeat([16383], 6)"
   ]
  },
  {
   "cell_type": "code",
   "execution_count": 8,
   "metadata": {},
   "outputs": [],
   "source": [
    "# convolve to find the number of times the kernel doesn't match\n",
    "result = sp.signal.convolve2d(\n",
    "    data, kernel, mode=\"valid\"\n",
    ")"
   ]
  },
  {
   "cell_type": "code",
   "execution_count": 9,
   "metadata": {},
   "outputs": [
    {
     "data": {
      "text/plain": [
       "array([[ 2,  2,  2,  2,  2,  2],\n",
       "       [-2, -2, -2, -2, -2, -2],\n",
       "       [ 2,  2,  2,  2,  2,  2],\n",
       "       ...,\n",
       "       [ 2,  2,  2,  2,  2,  2],\n",
       "       [-2, -2, -2, -2, -2, -2],\n",
       "       [ 2,  2,  2,  2,  2,  2]])"
      ]
     },
     "execution_count": 9,
     "metadata": {},
     "output_type": "execute_result"
    }
   ],
   "source": [
    "result"
   ]
  },
  {
   "cell_type": "code",
   "execution_count": 3,
   "metadata": {},
   "outputs": [
    {
     "data": {
      "text/plain": [
       "array([0., 0., 0., 0.])"
      ]
     },
     "execution_count": 3,
     "metadata": {},
     "output_type": "execute_result"
    }
   ],
   "source": [
    "np.zeros(4)"
   ]
  },
  {
   "cell_type": "code",
   "execution_count": 10,
   "metadata": {},
   "outputs": [
    {
     "name": "stdout",
     "output_type": "stream",
     "text": [
      "[16383 16383 16383 16383 16383 16383]\n"
     ]
    }
   ],
   "source": [
    "print(np.sum(result != 0, axis=0))\n",
    "# data = np.stack([np.fromiter(line.strip(), dtype=np.int64) for line in f])\n",
    "# # 16384, 6\n",
    "# # reshape into 6, 128x128 arrays\n",
    "# data = data.T.reshape(-1, 128, 128)\n",
    "# for i in range(6):\n",
    "#     plt.imshow(data[i], cmap=\"copper\")\n",
    "#     plt.show()\n",
    "# plt.savefig(\"data/0_f_k_2_SET_2-58-8_2024-10-10.png\")"
   ]
  },
  {
   "cell_type": "code",
   "execution_count": 125,
   "metadata": {},
   "outputs": [],
   "source": [
    "import numpy as np\n",
    "import matplotlib.pyplot as plt"
   ]
  },
  {
   "cell_type": "code",
   "execution_count": 133,
   "metadata": {},
   "outputs": [],
   "source": [
    "with open(f\"data/runs/3/shift.txt\", \"r\") as f:\n",
    "    data = np.stack([np.fromiter(line.strip(), dtype=np.int64) for line in f])"
   ]
  },
  {
   "cell_type": "code",
   "execution_count": 137,
   "metadata": {},
   "outputs": [
    {
     "name": "stdout",
     "output_type": "stream",
     "text": [
      "(16384, 6)\n"
     ]
    }
   ],
   "source": [
    "if data.shape[0] <= SHIFT_REGISTER_SIZE:\n",
    "    # pad the data with zeros\n",
    "    print(np.pad(data, ((0, SHIFT_REGISTER_SIZE - data.shape[0]), (0, 0))).shape)\n",
    "elif data.shape[0] > SHIFT_REGISTER_SIZE:\n",
    "    # truncate the data\n",
    "    print(data[:SHIFT_REGISTER_SIZE].shape)"
   ]
  },
  {
   "cell_type": "code",
   "execution_count": null,
   "metadata": {},
   "outputs": [],
   "source": []
  },
  {
   "cell_type": "code",
   "execution_count": 138,
   "metadata": {},
   "outputs": [
    {
     "data": {
      "image/png": "[encoded data removed]",
      "text/plain": [
       "<Figure size 500x200 with 6 Axes>"
      ]
     },
     "metadata": {},
     "output_type": "display_data"
    }
   ],
   "source": [
    "with open(f\"data/runs/5/shift.txt\", \"r\") as f:\n",
    "    data = np.stack([np.fromiter(line.strip(), dtype=np.int64) for line in f])\n",
    "if data.shape[0] <= SHIFT_REGISTER_SIZE:\n",
    "    # pad the data with zeros\n",
    "    data = np.pad(data, ((0, SHIFT_REGISTER_SIZE - data.shape[0]), (0, 0)))\n",
    "elif data.shape[0] > SHIFT_REGISTER_SIZE:\n",
    "    # truncate the data\n",
    "    data = data[:SHIFT_REGISTER_SIZE]\n",
    "# data can't be reshapped evenly always because of the random stream of data\n",
    "# we need to pad \n",
    "data = data.T.reshape(6, -1, 128)\n",
    "fig, ax = plt.subplots(6, 1, figsize=(5, 2))\n",
    "for p in range(6):\n",
    "    ax[p].imshow(\n",
    "        data[p], aspect=\"auto\", vmin=0, vmax=1, interpolation=\"none\"\n",
    "    )\n",
    "    ax[p].set_yticks([])\n",
    "    ax[p].set_xticks([])\n",
    "    ax[p].set_ylabel(\n",
    "        f\"SR{p}\", rotation=0, position=(1.01, 0.5), ha=\"right\", va=\"center\")\n",
    "plt.show()"
   ]
  },
  {
   "cell_type": "code",
   "execution_count": 26,
   "metadata": {},
   "outputs": [
    {
     "data": {
      "image/png": "[encoded data removed]",
      "text/plain": [
       "<Figure size 640x480 with 1 Axes>"
      ]
     },
     "metadata": {},
     "output_type": "display_data"
    },
    {
     "data": {
      "image/png": "[encoded data removed]",
      "text/plain": [
       "<Figure size 640x480 with 1 Axes>"
      ]
     },
     "metadata": {},
     "output_type": "display_data"
    },
    {
     "data": {
      "image/png": "[encoded data removed]",
      "text/plain": [
       "<Figure size 640x480 with 1 Axes>"
      ]
     },
     "metadata": {},
     "output_type": "display_data"
    },
    {
     "data": {
      "image/png": "[encoded data removed]",
      "text/plain": [
       "<Figure size 640x480 with 1 Axes>"
      ]
     },
     "metadata": {},
     "output_type": "display_data"
    },
    {
     "data": {
      "image/png": "[encoded data removed]",
      "text/plain": [
       "<Figure size 640x480 with 1 Axes>"
      ]
     },
     "metadata": {},
     "output_type": "display_data"
    },
    {
     "data": {
      "image/png": "[encoded data removed]",
      "text/plain": [
       "<Figure size 640x480 with 1 Axes>"
      ]
     },
     "metadata": {},
     "output_type": "display_data"
    }
   ],
   "source": [
    "imdata = data.T.reshape(-1, 128, 128)\n",
    "for i in range(6):\n",
    "    plt.imshow(imdata[i], cmap=\"copper\")\n",
    "    plt.show()\n",
    "# plt.savefig(\"data/0_f_k_2_SET_2-58-8_2024-10-10.png\")"
   ]
  },
  {
   "cell_type": "code",
   "execution_count": null,
   "metadata": {},
   "outputs": [],
   "source": []
  }
 ],
 "metadata": {
  "kernelspec": {
   "display_name": "gui",
   "language": "python",
   "name": "python3"
  },
  "language_info": {
   "codemirror_mode": {
    "name": "ipython",
    "version": 3
   },
   "file_extension": ".py",
   "mimetype": "text/x-python",
   "name": "python",
   "nbconvert_exporter": "python",
   "pygments_lexer": "ipython3",
   "version": "3.10.13"
  }
 },
 "nbformat": 4,
 "nbformat_minor": 2
}
